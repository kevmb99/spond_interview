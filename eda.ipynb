{
 "cells": [
  {
   "cell_type": "markdown",
   "id": "e39ba732",
   "metadata": {},
   "source": [
    "# Imports"
   ]
  },
  {
   "cell_type": "code",
   "execution_count": 163,
   "id": "148a6334",
   "metadata": {},
   "outputs": [],
   "source": [
    "import pandas as pd\n",
    "import matplotlib.pyplot as plt"
   ]
  },
  {
   "cell_type": "code",
   "execution_count": 164,
   "id": "c19538c0",
   "metadata": {},
   "outputs": [],
   "source": [
    "import matplotlib.pyplot as plt\n",
    "import matplotlib.colors as colors\n",
    "import numpy as np\n",
    "\n",
    "def truncate_colormap(cmap_name, minval=0.3, maxval=1.0, n=100, return_cmap=True):\n",
    "    \"\"\"Return a truncated version of a colormap.\"\"\"\n",
    "    cmap = plt.get_cmap(cmap_name)\n",
    "    if return_cmap:\n",
    "        new_cmap = colors.LinearSegmentedColormap.from_list(\n",
    "            f'trunc({cmap.name},{minval:.2f},{maxval:.2f})',\n",
    "            cmap(np.linspace(minval, maxval, n))\n",
    "        )\n",
    "        return new_cmap\n",
    "    else:\n",
    "        return cmap(np.linspace(minval, maxval, n))\n"
   ]
  },
  {
   "cell_type": "markdown",
   "id": "cce45d7f",
   "metadata": {},
   "source": [
    "# Read data"
   ]
  },
  {
   "cell_type": "code",
   "execution_count": 3,
   "id": "358b4c66",
   "metadata": {},
   "outputs": [],
   "source": [
    "events = pd.read_csv('data/spond__events.csv')\n",
    "exchange_rates = pd.read_csv('data/spond__exchange_rates.csv')\n",
    "memberships = pd.read_csv('data/spond__memberships.csv')\n",
    "teams = pd.read_csv('data/spond__teams.csv')\n",
    "payments = pd.read_csv('data/spond_payments.csv')"
   ]
  },
  {
   "cell_type": "code",
   "execution_count": 4,
   "id": "acb62382",
   "metadata": {},
   "outputs": [
    {
     "data": {
      "text/plain": [
       "['event_id',\n",
       " 'team_id',\n",
       " 'event_start',\n",
       " 'event_end',\n",
       " 'latitude',\n",
       " 'longitude',\n",
       " 'created_at']"
      ]
     },
     "execution_count": 4,
     "metadata": {},
     "output_type": "execute_result"
    }
   ],
   "source": [
    "events.columns.to_list()"
   ]
  },
  {
   "cell_type": "code",
   "execution_count": 5,
   "id": "3518ad93",
   "metadata": {},
   "outputs": [
    {
     "data": {
      "text/plain": [
       "['date', 'currency', 'exchange_rate']"
      ]
     },
     "execution_count": 5,
     "metadata": {},
     "output_type": "execute_result"
    }
   ],
   "source": [
    "exchange_rates.columns.to_list()"
   ]
  },
  {
   "cell_type": "code",
   "execution_count": 6,
   "id": "85e9bf6b",
   "metadata": {},
   "outputs": [
    {
     "data": {
      "text/plain": [
       "['membership_id', 'group_id', 'role_title', 'joined_at']"
      ]
     },
     "execution_count": 6,
     "metadata": {},
     "output_type": "execute_result"
    }
   ],
   "source": [
    "memberships.columns.to_list()"
   ]
  },
  {
   "cell_type": "code",
   "execution_count": 7,
   "id": "c47c4ede",
   "metadata": {},
   "outputs": [
    {
     "data": {
      "text/plain": [
       "['team_id', 'team_activity', 'country_code', 'created_at']"
      ]
     },
     "execution_count": 7,
     "metadata": {},
     "output_type": "execute_result"
    }
   ],
   "source": [
    "teams.columns.to_list()"
   ]
  },
  {
   "cell_type": "code",
   "execution_count": 8,
   "id": "587c3f05",
   "metadata": {},
   "outputs": [
    {
     "data": {
      "text/plain": [
       "['payment_id',\n",
       " 'membership_id',\n",
       " 'team_id',\n",
       " 'currency',\n",
       " 'volume_local_currency',\n",
       " 'created_at']"
      ]
     },
     "execution_count": 8,
     "metadata": {},
     "output_type": "execute_result"
    }
   ],
   "source": [
    "payments.columns.to_list()"
   ]
  },
  {
   "cell_type": "markdown",
   "id": "d13e232c",
   "metadata": {},
   "source": [
    "# Cleaning"
   ]
  },
  {
   "cell_type": "markdown",
   "id": "70cbde60",
   "metadata": {},
   "source": [
    "### events"
   ]
  },
  {
   "cell_type": "code",
   "execution_count": 9,
   "id": "908729f3",
   "metadata": {},
   "outputs": [
    {
     "data": {
      "text/plain": [
       "event_id           0\n",
       "team_id            0\n",
       "event_start        0\n",
       "event_end          0\n",
       "latitude       38517\n",
       "longitude      38517\n",
       "created_at         0\n",
       "dtype: int64"
      ]
     },
     "execution_count": 9,
     "metadata": {},
     "output_type": "execute_result"
    }
   ],
   "source": [
    "events.isna().sum()"
   ]
  },
  {
   "cell_type": "code",
   "execution_count": 10,
   "id": "fa746ef8",
   "metadata": {},
   "outputs": [
    {
     "data": {
      "text/plain": [
       "event_id        object\n",
       "team_id         object\n",
       "event_start     object\n",
       "event_end       object\n",
       "latitude       float64\n",
       "longitude      float64\n",
       "created_at      object\n",
       "dtype: object"
      ]
     },
     "execution_count": 10,
     "metadata": {},
     "output_type": "execute_result"
    }
   ],
   "source": [
    "events.dtypes"
   ]
  },
  {
   "cell_type": "code",
   "execution_count": 11,
   "id": "279a9fcb",
   "metadata": {},
   "outputs": [
    {
     "data": {
      "text/plain": [
       "1"
      ]
     },
     "execution_count": 11,
     "metadata": {},
     "output_type": "execute_result"
    }
   ],
   "source": [
    "events.event_id.value_counts().max()"
   ]
  },
  {
   "cell_type": "code",
   "execution_count": 12,
   "id": "1c40e57b",
   "metadata": {},
   "outputs": [],
   "source": [
    "events['event_start'] = pd.to_datetime(events.event_start)\n",
    "events['event_end'] = pd.to_datetime(events.event_end)\n",
    "events['created_at'] = pd.to_datetime(events.created_at)"
   ]
  },
  {
   "cell_type": "markdown",
   "id": "27107220",
   "metadata": {},
   "source": [
    "### exchange_rates"
   ]
  },
  {
   "cell_type": "code",
   "execution_count": 13,
   "id": "2ec60d33",
   "metadata": {},
   "outputs": [
    {
     "data": {
      "text/plain": [
       "date             0\n",
       "currency         0\n",
       "exchange_rate    0\n",
       "dtype: int64"
      ]
     },
     "execution_count": 13,
     "metadata": {},
     "output_type": "execute_result"
    }
   ],
   "source": [
    "exchange_rates.isna().sum()"
   ]
  },
  {
   "cell_type": "code",
   "execution_count": 14,
   "id": "b15b64a6",
   "metadata": {},
   "outputs": [],
   "source": [
    "exchange_rates['date'] = pd.to_datetime(exchange_rates.date).dt.date\n"
   ]
  },
  {
   "cell_type": "code",
   "execution_count": 15,
   "id": "02f7ca21",
   "metadata": {},
   "outputs": [
    {
     "data": {
      "text/plain": [
       "0        2024-01-01\n",
       "1        2024-01-01\n",
       "2        2024-01-01\n",
       "3        2024-01-01\n",
       "4        2024-01-01\n",
       "            ...    \n",
       "59287    2024-12-31\n",
       "59288    2024-12-31\n",
       "59289    2024-12-31\n",
       "59290    2024-12-31\n",
       "59291    2024-12-31\n",
       "Name: date, Length: 59292, dtype: object"
      ]
     },
     "execution_count": 15,
     "metadata": {},
     "output_type": "execute_result"
    }
   ],
   "source": [
    "exchange_rates.date"
   ]
  },
  {
   "cell_type": "markdown",
   "id": "2eac6ed4",
   "metadata": {},
   "source": [
    "### memberships"
   ]
  },
  {
   "cell_type": "code",
   "execution_count": 16,
   "id": "da8b72fe",
   "metadata": {},
   "outputs": [
    {
     "data": {
      "text/plain": [
       "membership_id    0\n",
       "group_id         0\n",
       "role_title       0\n",
       "joined_at        0\n",
       "dtype: int64"
      ]
     },
     "execution_count": 16,
     "metadata": {},
     "output_type": "execute_result"
    }
   ],
   "source": [
    "memberships.isna().sum()"
   ]
  },
  {
   "cell_type": "code",
   "execution_count": 17,
   "id": "aa39374b",
   "metadata": {},
   "outputs": [
    {
     "data": {
      "text/plain": [
       "1"
      ]
     },
     "execution_count": 17,
     "metadata": {},
     "output_type": "execute_result"
    }
   ],
   "source": [
    "memberships.membership_id.value_counts().max()"
   ]
  },
  {
   "cell_type": "code",
   "execution_count": 18,
   "id": "0f744e8e",
   "metadata": {},
   "outputs": [
    {
     "data": {
      "text/plain": [
       "member    175541\n",
       "admin      19887\n",
       "Name: role_title, dtype: int64"
      ]
     },
     "execution_count": 18,
     "metadata": {},
     "output_type": "execute_result"
    }
   ],
   "source": [
    "memberships.role_title.value_counts()"
   ]
  },
  {
   "cell_type": "code",
   "execution_count": 19,
   "id": "b1101870",
   "metadata": {},
   "outputs": [],
   "source": [
    "memberships['joined_at'] = pd.to_datetime(memberships.joined_at)"
   ]
  },
  {
   "cell_type": "markdown",
   "id": "41476ebe",
   "metadata": {},
   "source": [
    "### teams"
   ]
  },
  {
   "cell_type": "code",
   "execution_count": 20,
   "id": "ba687262",
   "metadata": {},
   "outputs": [
    {
     "data": {
      "text/plain": [
       "team_id          0\n",
       "team_activity    0\n",
       "country_code     0\n",
       "created_at       0\n",
       "dtype: int64"
      ]
     },
     "execution_count": 20,
     "metadata": {},
     "output_type": "execute_result"
    }
   ],
   "source": [
    "teams.isna().sum()"
   ]
  },
  {
   "cell_type": "code",
   "execution_count": 21,
   "id": "8389686d",
   "metadata": {},
   "outputs": [
    {
     "data": {
      "text/plain": [
       "1"
      ]
     },
     "execution_count": 21,
     "metadata": {},
     "output_type": "execute_result"
    }
   ],
   "source": [
    "teams.team_id.value_counts().max()"
   ]
  },
  {
   "cell_type": "code",
   "execution_count": 22,
   "id": "b47644bf",
   "metadata": {},
   "outputs": [
    {
     "data": {
      "text/plain": [
       "football             1800\n",
       "cricket               355\n",
       "netball               240\n",
       "rugby                 163\n",
       "basketball            163\n",
       "gymnastics            101\n",
       "other_non_sports      100\n",
       "dancing_and_cheer      79\n",
       "pickleball             79\n",
       "volleyball             79\n",
       "other_sports           78\n",
       "social                 77\n",
       "handball               72\n",
       "field_hockey           71\n",
       "music                  63\n",
       "school                 56\n",
       "tennis                 50\n",
       "cycling                43\n",
       "ice_hockey             38\n",
       "badminton              37\n",
       "martial_arts           36\n",
       "multisport             33\n",
       "volunteering           32\n",
       "running                28\n",
       "scouting               24\n",
       "swimming               23\n",
       "golf                   20\n",
       "water_sports           20\n",
       "padel                  20\n",
       "rowing                 16\n",
       "baseball               14\n",
       "squash                 14\n",
       "pingpong               14\n",
       "softball               13\n",
       "athletics              12\n",
       "american_football      11\n",
       "esports                11\n",
       "shooting_sports        10\n",
       "alpine_skiing          10\n",
       "lacrosse                9\n",
       "figureskating           8\n",
       "floorball               7\n",
       "beach_volleyball        5\n",
       "discgolf                5\n",
       "sailing                 5\n",
       "cc_skiing               5\n",
       "equestrian_sports       4\n",
       "fencing                 4\n",
       "bandy                   4\n",
       "yoga                    4\n",
       "motorsport              4\n",
       "biathlon                3\n",
       "gaelicfootball          2\n",
       "bowling                 2\n",
       "surfing                 2\n",
       "skating                 2\n",
       "hurling                 1\n",
       "orienteering            1\n",
       "Name: team_activity, dtype: int64"
      ]
     },
     "execution_count": 22,
     "metadata": {},
     "output_type": "execute_result"
    }
   ],
   "source": [
    "teams.team_activity.value_counts()"
   ]
  },
  {
   "cell_type": "code",
   "execution_count": 23,
   "id": "0fff2bb9",
   "metadata": {},
   "outputs": [],
   "source": [
    "teams['created_at'] = pd.to_datetime(teams.created_at)"
   ]
  },
  {
   "cell_type": "code",
   "execution_count": 24,
   "id": "108655d4",
   "metadata": {},
   "outputs": [
    {
     "data": {
      "text/plain": [
       "count                                   4182\n",
       "mean     2024-06-20 19:04:21.240107520+00:00\n",
       "min         2024-01-01 10:14:57.650000+00:00\n",
       "25%      2024-04-09 11:17:32.017499904+00:00\n",
       "50%      2024-06-25 09:29:55.904999936+00:00\n",
       "75%      2024-08-30 19:26:26.166749952+00:00\n",
       "max         2024-12-31 17:12:40.931000+00:00\n",
       "Name: created_at, dtype: object"
      ]
     },
     "execution_count": 24,
     "metadata": {},
     "output_type": "execute_result"
    }
   ],
   "source": [
    "teams.created_at.describe(datetime_is_numeric=True)"
   ]
  },
  {
   "cell_type": "markdown",
   "id": "d0d85ab0",
   "metadata": {},
   "source": [
    "### payments"
   ]
  },
  {
   "cell_type": "code",
   "execution_count": 25,
   "id": "80757d23",
   "metadata": {},
   "outputs": [
    {
     "data": {
      "text/plain": [
       "payment_id                 0\n",
       "membership_id            625\n",
       "team_id                    0\n",
       "currency                   0\n",
       "volume_local_currency      0\n",
       "created_at                 0\n",
       "dtype: int64"
      ]
     },
     "execution_count": 25,
     "metadata": {},
     "output_type": "execute_result"
    }
   ],
   "source": [
    "payments.isna().sum()"
   ]
  },
  {
   "cell_type": "code",
   "execution_count": 26,
   "id": "a5a13fe4",
   "metadata": {},
   "outputs": [
    {
     "data": {
      "text/plain": [
       "payment_id                object\n",
       "membership_id             object\n",
       "team_id                   object\n",
       "currency                  object\n",
       "volume_local_currency    float64\n",
       "created_at                object\n",
       "dtype: object"
      ]
     },
     "execution_count": 26,
     "metadata": {},
     "output_type": "execute_result"
    }
   ],
   "source": [
    "payments.dtypes"
   ]
  },
  {
   "cell_type": "code",
   "execution_count": 27,
   "id": "c0deb4c4",
   "metadata": {},
   "outputs": [],
   "source": [
    "payments['created_at'] = pd.to_datetime(payments.created_at)\n",
    "payments['created_date'] = payments.created_at.dt.date"
   ]
  },
  {
   "cell_type": "code",
   "execution_count": 28,
   "id": "15c9c6af",
   "metadata": {},
   "outputs": [
    {
     "data": {
      "text/html": [
       "<div>\n",
       "<style scoped>\n",
       "    .dataframe tbody tr th:only-of-type {\n",
       "        vertical-align: middle;\n",
       "    }\n",
       "\n",
       "    .dataframe tbody tr th {\n",
       "        vertical-align: top;\n",
       "    }\n",
       "\n",
       "    .dataframe thead th {\n",
       "        text-align: right;\n",
       "    }\n",
       "</style>\n",
       "<table border=\"1\" class=\"dataframe\">\n",
       "  <thead>\n",
       "    <tr style=\"text-align: right;\">\n",
       "      <th></th>\n",
       "      <th>payment_id</th>\n",
       "      <th>membership_id</th>\n",
       "      <th>team_id</th>\n",
       "      <th>currency</th>\n",
       "      <th>volume_local_currency</th>\n",
       "      <th>created_at</th>\n",
       "      <th>created_date</th>\n",
       "    </tr>\n",
       "  </thead>\n",
       "  <tbody>\n",
       "    <tr>\n",
       "      <th>574</th>\n",
       "      <td>74CBE24F627119FD1583638523AC426A</td>\n",
       "      <td>NaN</td>\n",
       "      <td>4993AE4FAC6C4C88B5A891B38A853247</td>\n",
       "      <td>GBP</td>\n",
       "      <td>7.39</td>\n",
       "      <td>2024-12-04 06:42:10.694000+00:00</td>\n",
       "      <td>2024-12-04</td>\n",
       "    </tr>\n",
       "    <tr>\n",
       "      <th>2023</th>\n",
       "      <td>A29A8341DAD216C5CBF4C19489F3B79B</td>\n",
       "      <td>NaN</td>\n",
       "      <td>91D7B2A152E84A02A41D3D0C2A644FBD</td>\n",
       "      <td>GBP</td>\n",
       "      <td>3.80</td>\n",
       "      <td>2024-07-13 16:57:05.121000+00:00</td>\n",
       "      <td>2024-07-13</td>\n",
       "    </tr>\n",
       "    <tr>\n",
       "      <th>2534</th>\n",
       "      <td>8ADE9DFE5759ACA4D37C7603772FD8AF</td>\n",
       "      <td>NaN</td>\n",
       "      <td>401D258DD81C4BF697FFF288CF302146</td>\n",
       "      <td>NOK</td>\n",
       "      <td>258.00</td>\n",
       "      <td>2024-11-30 16:05:41.310000+00:00</td>\n",
       "      <td>2024-11-30</td>\n",
       "    </tr>\n",
       "    <tr>\n",
       "      <th>2764</th>\n",
       "      <td>19842770983B32EE877554FE7298CB30</td>\n",
       "      <td>NaN</td>\n",
       "      <td>623F4D25C1E743CF8F3697D5CFC8844A</td>\n",
       "      <td>GBP</td>\n",
       "      <td>2.50</td>\n",
       "      <td>2024-07-15 19:06:27.477000+00:00</td>\n",
       "      <td>2024-07-15</td>\n",
       "    </tr>\n",
       "    <tr>\n",
       "      <th>2828</th>\n",
       "      <td>8A8827CCF4B9A7FF99391B6D733D3302</td>\n",
       "      <td>NaN</td>\n",
       "      <td>78D16F81636A4BBCB4FD1B7C127AAD12</td>\n",
       "      <td>GBP</td>\n",
       "      <td>10.47</td>\n",
       "      <td>2024-02-13 19:44:49.446000+00:00</td>\n",
       "      <td>2024-02-13</td>\n",
       "    </tr>\n",
       "    <tr>\n",
       "      <th>...</th>\n",
       "      <td>...</td>\n",
       "      <td>...</td>\n",
       "      <td>...</td>\n",
       "      <td>...</td>\n",
       "      <td>...</td>\n",
       "      <td>...</td>\n",
       "      <td>...</td>\n",
       "    </tr>\n",
       "    <tr>\n",
       "      <th>247306</th>\n",
       "      <td>3C60874D7657FBBF91EA0FC098799FCA</td>\n",
       "      <td>NaN</td>\n",
       "      <td>5219700E36D240D8B251B839C8C1A1C2</td>\n",
       "      <td>GBP</td>\n",
       "      <td>4.00</td>\n",
       "      <td>2024-06-19 19:04:51.517000+00:00</td>\n",
       "      <td>2024-06-19</td>\n",
       "    </tr>\n",
       "    <tr>\n",
       "      <th>248699</th>\n",
       "      <td>29A25547535B742DA7A5B67B3B13DFA6</td>\n",
       "      <td>NaN</td>\n",
       "      <td>8C76ED24B33444ECBD01FC074559A773</td>\n",
       "      <td>NOK</td>\n",
       "      <td>310.00</td>\n",
       "      <td>2024-11-16 15:31:55.691000+00:00</td>\n",
       "      <td>2024-11-16</td>\n",
       "    </tr>\n",
       "    <tr>\n",
       "      <th>249226</th>\n",
       "      <td>01354F5FEE92BBD78C19EF2BFF9CD99E</td>\n",
       "      <td>NaN</td>\n",
       "      <td>FC42B5B0D0964C059AC9753E07CD0DD4</td>\n",
       "      <td>NOK</td>\n",
       "      <td>100.00</td>\n",
       "      <td>2024-10-07 21:12:01.955000+00:00</td>\n",
       "      <td>2024-10-07</td>\n",
       "    </tr>\n",
       "    <tr>\n",
       "      <th>249854</th>\n",
       "      <td>B5F9B83D253C5AAF37A4DF45B095FCE5</td>\n",
       "      <td>NaN</td>\n",
       "      <td>8508F45289E54B18BEFA6F1635AC6335</td>\n",
       "      <td>NOK</td>\n",
       "      <td>1028.00</td>\n",
       "      <td>2024-12-03 21:02:10.414000+00:00</td>\n",
       "      <td>2024-12-03</td>\n",
       "    </tr>\n",
       "    <tr>\n",
       "      <th>250579</th>\n",
       "      <td>A0D7413CF9CB7AEF15E1169861785865</td>\n",
       "      <td>NaN</td>\n",
       "      <td>8508F45289E54B18BEFA6F1635AC6335</td>\n",
       "      <td>NOK</td>\n",
       "      <td>1028.00</td>\n",
       "      <td>2024-11-30 23:02:42.973000+00:00</td>\n",
       "      <td>2024-11-30</td>\n",
       "    </tr>\n",
       "  </tbody>\n",
       "</table>\n",
       "<p>625 rows × 7 columns</p>\n",
       "</div>"
      ],
      "text/plain": [
       "                              payment_id membership_id  \\\n",
       "574     74CBE24F627119FD1583638523AC426A           NaN   \n",
       "2023    A29A8341DAD216C5CBF4C19489F3B79B           NaN   \n",
       "2534    8ADE9DFE5759ACA4D37C7603772FD8AF           NaN   \n",
       "2764    19842770983B32EE877554FE7298CB30           NaN   \n",
       "2828    8A8827CCF4B9A7FF99391B6D733D3302           NaN   \n",
       "...                                  ...           ...   \n",
       "247306  3C60874D7657FBBF91EA0FC098799FCA           NaN   \n",
       "248699  29A25547535B742DA7A5B67B3B13DFA6           NaN   \n",
       "249226  01354F5FEE92BBD78C19EF2BFF9CD99E           NaN   \n",
       "249854  B5F9B83D253C5AAF37A4DF45B095FCE5           NaN   \n",
       "250579  A0D7413CF9CB7AEF15E1169861785865           NaN   \n",
       "\n",
       "                                 team_id currency  volume_local_currency  \\\n",
       "574     4993AE4FAC6C4C88B5A891B38A853247      GBP                   7.39   \n",
       "2023    91D7B2A152E84A02A41D3D0C2A644FBD      GBP                   3.80   \n",
       "2534    401D258DD81C4BF697FFF288CF302146      NOK                 258.00   \n",
       "2764    623F4D25C1E743CF8F3697D5CFC8844A      GBP                   2.50   \n",
       "2828    78D16F81636A4BBCB4FD1B7C127AAD12      GBP                  10.47   \n",
       "...                                  ...      ...                    ...   \n",
       "247306  5219700E36D240D8B251B839C8C1A1C2      GBP                   4.00   \n",
       "248699  8C76ED24B33444ECBD01FC074559A773      NOK                 310.00   \n",
       "249226  FC42B5B0D0964C059AC9753E07CD0DD4      NOK                 100.00   \n",
       "249854  8508F45289E54B18BEFA6F1635AC6335      NOK                1028.00   \n",
       "250579  8508F45289E54B18BEFA6F1635AC6335      NOK                1028.00   \n",
       "\n",
       "                             created_at created_date  \n",
       "574    2024-12-04 06:42:10.694000+00:00   2024-12-04  \n",
       "2023   2024-07-13 16:57:05.121000+00:00   2024-07-13  \n",
       "2534   2024-11-30 16:05:41.310000+00:00   2024-11-30  \n",
       "2764   2024-07-15 19:06:27.477000+00:00   2024-07-15  \n",
       "2828   2024-02-13 19:44:49.446000+00:00   2024-02-13  \n",
       "...                                 ...          ...  \n",
       "247306 2024-06-19 19:04:51.517000+00:00   2024-06-19  \n",
       "248699 2024-11-16 15:31:55.691000+00:00   2024-11-16  \n",
       "249226 2024-10-07 21:12:01.955000+00:00   2024-10-07  \n",
       "249854 2024-12-03 21:02:10.414000+00:00   2024-12-03  \n",
       "250579 2024-11-30 23:02:42.973000+00:00   2024-11-30  \n",
       "\n",
       "[625 rows x 7 columns]"
      ]
     },
     "execution_count": 28,
     "metadata": {},
     "output_type": "execute_result"
    }
   ],
   "source": [
    "payments.loc[payments.membership_id.isna()]"
   ]
  },
  {
   "cell_type": "code",
   "execution_count": 29,
   "id": "3f0e12fa",
   "metadata": {},
   "outputs": [
    {
     "data": {
      "text/plain": [
       "count    250841.000000\n",
       "mean         54.325822\n",
       "std         266.624717\n",
       "min           2.000000\n",
       "25%           4.500000\n",
       "50%           6.360000\n",
       "75%          15.590000\n",
       "max       10341.230000\n",
       "Name: volume_local_currency, dtype: float64"
      ]
     },
     "execution_count": 29,
     "metadata": {},
     "output_type": "execute_result"
    }
   ],
   "source": [
    "payments.volume_local_currency.describe()"
   ]
  },
  {
   "cell_type": "code",
   "execution_count": 30,
   "id": "03ec9763",
   "metadata": {},
   "outputs": [
    {
     "data": {
      "text/html": [
       "<div>\n",
       "<style scoped>\n",
       "    .dataframe tbody tr th:only-of-type {\n",
       "        vertical-align: middle;\n",
       "    }\n",
       "\n",
       "    .dataframe tbody tr th {\n",
       "        vertical-align: top;\n",
       "    }\n",
       "\n",
       "    .dataframe thead th {\n",
       "        text-align: right;\n",
       "    }\n",
       "</style>\n",
       "<table border=\"1\" class=\"dataframe\">\n",
       "  <thead>\n",
       "    <tr style=\"text-align: right;\">\n",
       "      <th></th>\n",
       "      <th>payment_id</th>\n",
       "      <th>membership_id</th>\n",
       "      <th>team_id</th>\n",
       "      <th>currency</th>\n",
       "      <th>volume_local_currency</th>\n",
       "      <th>created_at</th>\n",
       "      <th>created_date</th>\n",
       "    </tr>\n",
       "  </thead>\n",
       "  <tbody>\n",
       "    <tr>\n",
       "      <th>17940</th>\n",
       "      <td>C600345CD549C3E57A2129E963A61D15</td>\n",
       "      <td>63c4e051ca0572266d95ce9c75e92295baeca8bb25b154...</td>\n",
       "      <td>73DF87F0EB3E4553B20DE09DC16297F4</td>\n",
       "      <td>USD</td>\n",
       "      <td>10341.23</td>\n",
       "      <td>2024-02-02 15:18:04.146000+00:00</td>\n",
       "      <td>2024-02-02</td>\n",
       "    </tr>\n",
       "    <tr>\n",
       "      <th>192246</th>\n",
       "      <td>99ED183CC0450E2111B632B0F74D2038</td>\n",
       "      <td>63c4e051ca0572266d95ce9c75e92295baeca8bb25b154...</td>\n",
       "      <td>73DF87F0EB3E4553B20DE09DC16297F4</td>\n",
       "      <td>USD</td>\n",
       "      <td>10341.23</td>\n",
       "      <td>2024-02-02 15:16:22.098000+00:00</td>\n",
       "      <td>2024-02-02</td>\n",
       "    </tr>\n",
       "  </tbody>\n",
       "</table>\n",
       "</div>"
      ],
      "text/plain": [
       "                              payment_id  \\\n",
       "17940   C600345CD549C3E57A2129E963A61D15   \n",
       "192246  99ED183CC0450E2111B632B0F74D2038   \n",
       "\n",
       "                                            membership_id  \\\n",
       "17940   63c4e051ca0572266d95ce9c75e92295baeca8bb25b154...   \n",
       "192246  63c4e051ca0572266d95ce9c75e92295baeca8bb25b154...   \n",
       "\n",
       "                                 team_id currency  volume_local_currency  \\\n",
       "17940   73DF87F0EB3E4553B20DE09DC16297F4      USD               10341.23   \n",
       "192246  73DF87F0EB3E4553B20DE09DC16297F4      USD               10341.23   \n",
       "\n",
       "                             created_at created_date  \n",
       "17940  2024-02-02 15:18:04.146000+00:00   2024-02-02  \n",
       "192246 2024-02-02 15:16:22.098000+00:00   2024-02-02  "
      ]
     },
     "execution_count": 30,
     "metadata": {},
     "output_type": "execute_result"
    }
   ],
   "source": [
    "payments.loc[payments.volume_local_currency==payments.volume_local_currency.max()]"
   ]
  },
  {
   "cell_type": "code",
   "execution_count": 31,
   "id": "ab72e23e",
   "metadata": {},
   "outputs": [
    {
     "data": {
      "text/html": [
       "<div>\n",
       "<style scoped>\n",
       "    .dataframe tbody tr th:only-of-type {\n",
       "        vertical-align: middle;\n",
       "    }\n",
       "\n",
       "    .dataframe tbody tr th {\n",
       "        vertical-align: top;\n",
       "    }\n",
       "\n",
       "    .dataframe thead th {\n",
       "        text-align: right;\n",
       "    }\n",
       "</style>\n",
       "<table border=\"1\" class=\"dataframe\">\n",
       "  <thead>\n",
       "    <tr style=\"text-align: right;\">\n",
       "      <th></th>\n",
       "      <th>mean</th>\n",
       "      <th>min</th>\n",
       "      <th>max</th>\n",
       "    </tr>\n",
       "    <tr>\n",
       "      <th>currency</th>\n",
       "      <th></th>\n",
       "      <th></th>\n",
       "      <th></th>\n",
       "    </tr>\n",
       "  </thead>\n",
       "  <tbody>\n",
       "    <tr>\n",
       "      <th>AUD</th>\n",
       "      <td>74.220000</td>\n",
       "      <td>74.22</td>\n",
       "      <td>74.22</td>\n",
       "    </tr>\n",
       "    <tr>\n",
       "      <th>DKK</th>\n",
       "      <td>246.833333</td>\n",
       "      <td>105.00</td>\n",
       "      <td>956.00</td>\n",
       "    </tr>\n",
       "    <tr>\n",
       "      <th>EUR</th>\n",
       "      <td>64.260404</td>\n",
       "      <td>2.00</td>\n",
       "      <td>461.75</td>\n",
       "    </tr>\n",
       "    <tr>\n",
       "      <th>GBP</th>\n",
       "      <td>11.316496</td>\n",
       "      <td>2.00</td>\n",
       "      <td>500.00</td>\n",
       "    </tr>\n",
       "    <tr>\n",
       "      <th>NOK</th>\n",
       "      <td>513.145751</td>\n",
       "      <td>25.00</td>\n",
       "      <td>10258.00</td>\n",
       "    </tr>\n",
       "    <tr>\n",
       "      <th>SEK</th>\n",
       "      <td>534.287500</td>\n",
       "      <td>510.00</td>\n",
       "      <td>669.00</td>\n",
       "    </tr>\n",
       "    <tr>\n",
       "      <th>USD</th>\n",
       "      <td>97.433731</td>\n",
       "      <td>2.00</td>\n",
       "      <td>10341.23</td>\n",
       "    </tr>\n",
       "  </tbody>\n",
       "</table>\n",
       "</div>"
      ],
      "text/plain": [
       "                mean     min       max\n",
       "currency                              \n",
       "AUD        74.220000   74.22     74.22\n",
       "DKK       246.833333  105.00    956.00\n",
       "EUR        64.260404    2.00    461.75\n",
       "GBP        11.316496    2.00    500.00\n",
       "NOK       513.145751   25.00  10258.00\n",
       "SEK       534.287500  510.00    669.00\n",
       "USD        97.433731    2.00  10341.23"
      ]
     },
     "execution_count": 31,
     "metadata": {},
     "output_type": "execute_result"
    }
   ],
   "source": [
    "payments.groupby('currency')['volume_local_currency'].agg(['mean', 'min', 'max'])"
   ]
  },
  {
   "cell_type": "code",
   "execution_count": 32,
   "id": "9d8cc711",
   "metadata": {},
   "outputs": [
    {
     "data": {
      "text/html": [
       "<div>\n",
       "<style scoped>\n",
       "    .dataframe tbody tr th:only-of-type {\n",
       "        vertical-align: middle;\n",
       "    }\n",
       "\n",
       "    .dataframe tbody tr th {\n",
       "        vertical-align: top;\n",
       "    }\n",
       "\n",
       "    .dataframe thead th {\n",
       "        text-align: right;\n",
       "    }\n",
       "</style>\n",
       "<table border=\"1\" class=\"dataframe\">\n",
       "  <thead>\n",
       "    <tr style=\"text-align: right;\">\n",
       "      <th></th>\n",
       "      <th>payment_id</th>\n",
       "      <th>membership_id</th>\n",
       "      <th>team_id</th>\n",
       "      <th>currency</th>\n",
       "      <th>volume_local_currency</th>\n",
       "      <th>created_at</th>\n",
       "      <th>created_date</th>\n",
       "    </tr>\n",
       "  </thead>\n",
       "  <tbody>\n",
       "    <tr>\n",
       "      <th>17940</th>\n",
       "      <td>C600345CD549C3E57A2129E963A61D15</td>\n",
       "      <td>63c4e051ca0572266d95ce9c75e92295baeca8bb25b154...</td>\n",
       "      <td>73DF87F0EB3E4553B20DE09DC16297F4</td>\n",
       "      <td>USD</td>\n",
       "      <td>10341.23</td>\n",
       "      <td>2024-02-02 15:18:04.146000+00:00</td>\n",
       "      <td>2024-02-02</td>\n",
       "    </tr>\n",
       "    <tr>\n",
       "      <th>95168</th>\n",
       "      <td>E2C17F0FF634C882E58F3DBDAD37FFBA</td>\n",
       "      <td>63c4e051ca0572266d95ce9c75e92295baeca8bb25b154...</td>\n",
       "      <td>73DF87F0EB3E4553B20DE09DC16297F4</td>\n",
       "      <td>USD</td>\n",
       "      <td>3450.00</td>\n",
       "      <td>2024-07-08 11:30:17.216000+00:00</td>\n",
       "      <td>2024-07-08</td>\n",
       "    </tr>\n",
       "    <tr>\n",
       "      <th>192246</th>\n",
       "      <td>99ED183CC0450E2111B632B0F74D2038</td>\n",
       "      <td>63c4e051ca0572266d95ce9c75e92295baeca8bb25b154...</td>\n",
       "      <td>73DF87F0EB3E4553B20DE09DC16297F4</td>\n",
       "      <td>USD</td>\n",
       "      <td>10341.23</td>\n",
       "      <td>2024-02-02 15:16:22.098000+00:00</td>\n",
       "      <td>2024-02-02</td>\n",
       "    </tr>\n",
       "    <tr>\n",
       "      <th>226551</th>\n",
       "      <td>E13645E10FBCDC77BDD7D5A862730CD6</td>\n",
       "      <td>63c4e051ca0572266d95ce9c75e92295baeca8bb25b154...</td>\n",
       "      <td>73DF87F0EB3E4553B20DE09DC16297F4</td>\n",
       "      <td>USD</td>\n",
       "      <td>5171.14</td>\n",
       "      <td>2024-02-02 15:19:13.356000+00:00</td>\n",
       "      <td>2024-02-02</td>\n",
       "    </tr>\n",
       "  </tbody>\n",
       "</table>\n",
       "</div>"
      ],
      "text/plain": [
       "                              payment_id  \\\n",
       "17940   C600345CD549C3E57A2129E963A61D15   \n",
       "95168   E2C17F0FF634C882E58F3DBDAD37FFBA   \n",
       "192246  99ED183CC0450E2111B632B0F74D2038   \n",
       "226551  E13645E10FBCDC77BDD7D5A862730CD6   \n",
       "\n",
       "                                            membership_id  \\\n",
       "17940   63c4e051ca0572266d95ce9c75e92295baeca8bb25b154...   \n",
       "95168   63c4e051ca0572266d95ce9c75e92295baeca8bb25b154...   \n",
       "192246  63c4e051ca0572266d95ce9c75e92295baeca8bb25b154...   \n",
       "226551  63c4e051ca0572266d95ce9c75e92295baeca8bb25b154...   \n",
       "\n",
       "                                 team_id currency  volume_local_currency  \\\n",
       "17940   73DF87F0EB3E4553B20DE09DC16297F4      USD               10341.23   \n",
       "95168   73DF87F0EB3E4553B20DE09DC16297F4      USD                3450.00   \n",
       "192246  73DF87F0EB3E4553B20DE09DC16297F4      USD               10341.23   \n",
       "226551  73DF87F0EB3E4553B20DE09DC16297F4      USD                5171.14   \n",
       "\n",
       "                             created_at created_date  \n",
       "17940  2024-02-02 15:18:04.146000+00:00   2024-02-02  \n",
       "95168  2024-07-08 11:30:17.216000+00:00   2024-07-08  \n",
       "192246 2024-02-02 15:16:22.098000+00:00   2024-02-02  \n",
       "226551 2024-02-02 15:19:13.356000+00:00   2024-02-02  "
      ]
     },
     "execution_count": 32,
     "metadata": {},
     "output_type": "execute_result"
    }
   ],
   "source": [
    "# Something to investigate\n",
    "payments.loc[payments.team_id=='73DF87F0EB3E4553B20DE09DC16297F4']"
   ]
  },
  {
   "cell_type": "code",
   "execution_count": 33,
   "id": "3b8e9739",
   "metadata": {},
   "outputs": [
    {
     "data": {
      "text/html": [
       "<div>\n",
       "<style scoped>\n",
       "    .dataframe tbody tr th:only-of-type {\n",
       "        vertical-align: middle;\n",
       "    }\n",
       "\n",
       "    .dataframe tbody tr th {\n",
       "        vertical-align: top;\n",
       "    }\n",
       "\n",
       "    .dataframe thead th {\n",
       "        text-align: right;\n",
       "    }\n",
       "</style>\n",
       "<table border=\"1\" class=\"dataframe\">\n",
       "  <thead>\n",
       "    <tr style=\"text-align: right;\">\n",
       "      <th></th>\n",
       "      <th>team_id</th>\n",
       "      <th>team_activity</th>\n",
       "      <th>country_code</th>\n",
       "      <th>created_at</th>\n",
       "    </tr>\n",
       "  </thead>\n",
       "  <tbody>\n",
       "    <tr>\n",
       "      <th>846</th>\n",
       "      <td>73DF87F0EB3E4553B20DE09DC16297F4</td>\n",
       "      <td>football</td>\n",
       "      <td>USA</td>\n",
       "      <td>2024-01-16 21:21:44.475000+00:00</td>\n",
       "    </tr>\n",
       "  </tbody>\n",
       "</table>\n",
       "</div>"
      ],
      "text/plain": [
       "                              team_id team_activity country_code  \\\n",
       "846  73DF87F0EB3E4553B20DE09DC16297F4      football          USA   \n",
       "\n",
       "                          created_at  \n",
       "846 2024-01-16 21:21:44.475000+00:00  "
      ]
     },
     "execution_count": 33,
     "metadata": {},
     "output_type": "execute_result"
    }
   ],
   "source": [
    "teams.loc[teams.team_id=='73DF87F0EB3E4553B20DE09DC16297F4']"
   ]
  },
  {
   "cell_type": "markdown",
   "id": "ac804931",
   "metadata": {},
   "source": [
    "Summary: Made all date columns into datetime format. Investigated unusual payment for outlier USD team."
   ]
  },
  {
   "cell_type": "markdown",
   "id": "df771380",
   "metadata": {},
   "source": [
    "### Created and Enhanced Tables"
   ]
  },
  {
   "cell_type": "code",
   "execution_count": 148,
   "id": "aa3ff1d3",
   "metadata": {},
   "outputs": [],
   "source": [
    "# teams_activation: Expands Teams table to include their first membership, event, and payment along with flags and differences since team creation\n",
    "membership_activation = memberships.loc[memberships.role_title=='member'].groupby('group_id').joined_at.min().rename('first_membership')\n",
    "event_activation = events.groupby('team_id').event_start.min().rename('first_event')\n",
    "payment_activation = payments.groupby('team_id').created_at.min().rename('first_payment')\n",
    "\n",
    "teams_activation = teams.copy(deep=True)\n",
    "for name, series in zip(['membership', 'event', 'payment'], [membership_activation, event_activation, payment_activation]):\n",
    "    teams_activation = pd.merge(\n",
    "        teams_activation,\n",
    "        series,\n",
    "        how = 'left',\n",
    "        left_on='team_id',\n",
    "        right_index=True\n",
    "    )\n",
    "    teams_activation[f'first_{name}_flag'] = ~teams_activation[f'first_{name}'].isna()\n",
    "    teams_activation[f'first_{name}_diff_days'] = (teams_activation[f'first_{name}']-teams_activation['created_at']).dt.days"
   ]
  },
  {
   "cell_type": "code",
   "execution_count": 149,
   "id": "626c2776",
   "metadata": {},
   "outputs": [
    {
     "name": "stderr",
     "output_type": "stream",
     "text": [
      "c:\\Users\\kevb99\\anaconda3\\lib\\site-packages\\pandas\\core\\arrays\\datetimes.py:1162: UserWarning: Converting to PeriodArray/Index representation will drop timezone information.\n",
      "  warnings.warn(\n"
     ]
    }
   ],
   "source": [
    "# payments_enriched: Adds NOK volume and Spond revenue to payments data\n",
    "payments_with_rates = payments.merge(\n",
    "    exchange_rates,\n",
    "    left_on=['currency', 'created_date'],\n",
    "    right_on=['currency', 'date'],\n",
    "    how='left'\n",
    ").drop(columns='date')\n",
    "\n",
    "payments_with_rates['volume_NOK'] = payments_with_rates.volume_local_currency * payments_with_rates.exchange_rate\n",
    "payments_with_rates['spond_revenue'] = payments_with_rates.volume_NOK * 0.02\n",
    "\n",
    "payments_enriched = payments_with_rates.rename(columns={'created_at':'payment_created_at'}).merge(teams.rename(columns={'created_at':'team_created_at'}), on='team_id', how='left')\n",
    "payments_enriched['week'] = payments_enriched['payment_created_at'].dt.to_period('W').apply(lambda r: r.start_time)"
   ]
  },
  {
   "cell_type": "code",
   "execution_count": 150,
   "id": "4b706f8c",
   "metadata": {},
   "outputs": [
    {
     "name": "stderr",
     "output_type": "stream",
     "text": [
      "c:\\Users\\kevb99\\anaconda3\\lib\\site-packages\\pandas\\core\\arrays\\datetimes.py:1162: UserWarning: Converting to PeriodArray/Index representation will drop timezone information.\n",
      "  warnings.warn(\n"
     ]
    }
   ],
   "source": [
    "# team_week: Aggregates number of events and payments in each week\n",
    "team_week = events[['team_id', 'event_start']].copy(deep=True)\n",
    "team_week['week'] = team_week['event_start'].dt.to_period('W').apply(lambda r: r.start_time)\n",
    "team_week = team_week.groupby(['team_id', 'week']).event_start.nunique().rename('num_events').reset_index().sort_values(['team_id', 'week'])\n",
    "team_week = team_week.merge(payments_enriched.groupby(['week', 'team_id']).payment_id.count().rename('num_payments'), how='outer',\n",
    "                            left_on = ['week', 'team_id'], right_index=True).fillna(0).reset_index().drop(columns='index')"
   ]
  },
  {
   "cell_type": "code",
   "execution_count": 151,
   "id": "5db26dd3",
   "metadata": {},
   "outputs": [],
   "source": [
    "# weekly_team_event_activity: Captures weekly event data by teams\n",
    "\n",
    "# Create a binary matrix of activity (rows=team, columns=week)\n",
    "activity_matrix_events = (\n",
    "    team_week.loc[team_week.num_events>0].copy(deep=True).assign(active=1)\n",
    "      .pivot_table(index='team_id', columns='week', values='active', fill_value=0)\n",
    "      .sort_index(axis=1)  # sort by week\n",
    ")\n",
    "\n",
    "# Identify first week each team was active\n",
    "first_week_events = activity_matrix_events.apply(lambda row: row[row > 0].index.min(), axis=1)\n",
    "\n",
    "# Fill with NaN prior\n",
    "for team in activity_matrix_events.index:\n",
    "    activity_matrix_events.loc[team, activity_matrix_events.columns < first_week_events[team]] = np.nan\n",
    "\n",
    "# Binary weekly active flag\n",
    "weekly_active_events = activity_matrix_events.stack().rename('weekly_event_active_flag')\n",
    "\n",
    "# Rolling sum over previous 4 weeks (axis=1 = across weeks)\n",
    "rolling_activity_events= activity_matrix_events.rolling(window=4, axis=1, min_periods=1).sum().stack().rename('rolling_event_active_weeks')\n",
    "\n",
    "# Merge horizontally (identical row indexes, no need to merge)\n",
    "events_combined = pd.concat([weekly_active_events, rolling_activity_events], axis=1).reset_index()\n",
    "\n",
    "# Flatten data\n",
    "weekly_team_event_activity = (\n",
    "    events_combined\n",
    "    .rename(columns={'level_1': 'week'})\n",
    ")\n",
    "\n",
    "# Create Engagement Level Column from activity\n",
    "weekly_team_event_activity['rolling_event_engagement_level'] = pd.cut(\n",
    "    weekly_team_event_activity['rolling_event_active_weeks'],\n",
    "    bins=[-1, 0, 1, 2, 3, 4],\n",
    "    labels=['None','Low', 'Moderate', 'High', 'Very High']\n",
    ")"
   ]
  },
  {
   "cell_type": "code",
   "execution_count": 152,
   "id": "59dfa11e",
   "metadata": {},
   "outputs": [],
   "source": [
    "# weekly_team_payment_activity: Captures weekly payment data by teams\n",
    "\n",
    "# Create a binary matrix of activity (rows=team, columns=week)\n",
    "activity_matrix_payments = (\n",
    "    team_week.loc[team_week.num_payments>0].assign(active=1)\n",
    "      .pivot_table(index='team_id', columns='week', values='active', fill_value=0)\n",
    "      .sort_index(axis=1)  # sort by week\n",
    ")\n",
    "# Identify first week each team was active\n",
    "first_week = activity_matrix_payments.apply(lambda row: row[row > 0].index.min(), axis=1)\n",
    "\n",
    "# Fill with NaN prior\n",
    "for team in activity_matrix_payments.index:\n",
    "    activity_matrix_payments.loc[team, activity_matrix_payments.columns < first_week[team]] = np.nan\n",
    "\n",
    "# Binary weekly active flag\n",
    "weekly_active_payments = activity_matrix_payments.stack().rename('weekly_payment_active_flag')\n",
    "\n",
    "# Rolling sum over previous 4 weeks (axis=1 = across weeks)\n",
    "rolling_activity_payments = activity_matrix_payments.rolling(window=4, axis=1, min_periods=1).sum().stack().rename('rolling_payment_active_weeks')\n",
    "\n",
    "# Merge horizontally (identical row indexes, no need to merge)\n",
    "payments_combined = pd.concat([weekly_active_payments, rolling_activity_payments], axis=1).reset_index()\n",
    "\n",
    "# Flatten data\n",
    "weekly_team_payment_activity = (\n",
    "    payments_combined\n",
    "    .rename(columns={'level_1': 'week'})\n",
    ")"
   ]
  },
  {
   "cell_type": "markdown",
   "id": "ed94a869",
   "metadata": {},
   "source": [
    "# Metrics"
   ]
  },
  {
   "cell_type": "markdown",
   "id": "e7068132",
   "metadata": {},
   "source": [
    "### Activation"
   ]
  },
  {
   "cell_type": "markdown",
   "id": "4dd579b5",
   "metadata": {},
   "source": [
    "#### First member, event, and payment"
   ]
  },
  {
   "cell_type": "markdown",
   "id": "3b7edf77",
   "metadata": {},
   "source": [
    "Why I chose it: Gives insight into how many teams progress to the next step of the sales funnel. Important for visualizing churn in each step"
   ]
  },
  {
   "cell_type": "markdown",
   "id": "cacb02df",
   "metadata": {},
   "source": [
    "How it’s computed: Accesses the first membership, event, and payment flag for each team. Aggregates the sum of teams with each of these and can visualize them by traits of the team (location, sport)\n"
   ]
  },
  {
   "cell_type": "markdown",
   "id": "772c13e6",
   "metadata": {},
   "source": [
    "Any assumptions: None"
   ]
  },
  {
   "cell_type": "code",
   "execution_count": 153,
   "id": "3ea2afc1",
   "metadata": {},
   "outputs": [
    {
     "data": {
      "text/html": [
       "<div>\n",
       "<style scoped>\n",
       "    .dataframe tbody tr th:only-of-type {\n",
       "        vertical-align: middle;\n",
       "    }\n",
       "\n",
       "    .dataframe tbody tr th {\n",
       "        vertical-align: top;\n",
       "    }\n",
       "\n",
       "    .dataframe thead th {\n",
       "        text-align: right;\n",
       "    }\n",
       "</style>\n",
       "<table border=\"1\" class=\"dataframe\">\n",
       "  <thead>\n",
       "    <tr style=\"text-align: right;\">\n",
       "      <th></th>\n",
       "      <th>total_teams</th>\n",
       "      <th>first_membership_flag</th>\n",
       "      <th>first_event_flag</th>\n",
       "      <th>first_payment_flag</th>\n",
       "      <th>total_event_activation_rate</th>\n",
       "      <th>total_membership_activation_rate</th>\n",
       "      <th>total_payment_activation_rate</th>\n",
       "    </tr>\n",
       "  </thead>\n",
       "  <tbody>\n",
       "    <tr>\n",
       "      <th>0</th>\n",
       "      <td>4182</td>\n",
       "      <td>4123</td>\n",
       "      <td>3772</td>\n",
       "      <td>3283</td>\n",
       "      <td>0.901961</td>\n",
       "      <td>0.985892</td>\n",
       "      <td>0.785031</td>\n",
       "    </tr>\n",
       "  </tbody>\n",
       "</table>\n",
       "</div>"
      ],
      "text/plain": [
       "   total_teams  first_membership_flag  first_event_flag  first_payment_flag  \\\n",
       "0         4182                   4123              3772                3283   \n",
       "\n",
       "   total_event_activation_rate  total_membership_activation_rate  \\\n",
       "0                     0.901961                          0.985892   \n",
       "\n",
       "   total_payment_activation_rate  \n",
       "0                       0.785031  "
      ]
     },
     "execution_count": 153,
     "metadata": {},
     "output_type": "execute_result"
    }
   ],
   "source": [
    "teams_activation.agg(\n",
    "        {\n",
    "            'team_id':'count',\n",
    "            'first_membership_flag': 'sum',\n",
    "            'first_event_flag': 'sum',\n",
    "            'first_payment_flag': 'sum'\n",
    "        }\n",
    "    ).rename(\n",
    "        {'team_id': 'total_teams'}\n",
    "    ).to_frame().T.assign(\n",
    "        total_event_activation_rate= lambda x: x['first_event_flag'] / x['total_teams'],\n",
    "        total_membership_activation_rate= lambda x: x['first_membership_flag'] / x['total_teams'],\n",
    "        total_payment_activation_rate= lambda x: x['first_payment_flag'] / x['total_teams'],\n",
    "    )\n"
   ]
  },
  {
   "cell_type": "code",
   "execution_count": 154,
   "id": "eb5991bc",
   "metadata": {},
   "outputs": [],
   "source": [
    "activation_by_country = teams_activation.groupby('country_code').agg(\n",
    "    {'team_id':'count',\n",
    "     'first_membership_flag': 'sum',\n",
    "     'first_event_flag': 'sum',\n",
    "     'first_payment_flag': 'sum'}\n",
    "    ).reset_index().rename(\n",
    "        columns={'team_id': 'total_teams'}\n",
    "    )"
   ]
  },
  {
   "cell_type": "code",
   "execution_count": 155,
   "id": "155f6a46",
   "metadata": {},
   "outputs": [
    {
     "data": {
      "text/plain": [
       "<matplotlib.legend.Legend at 0x1aecca9a280>"
      ]
     },
     "execution_count": 155,
     "metadata": {},
     "output_type": "execute_result"
    },
    {
     "data": {
      "image/png": "[encoded data removed]",
      "text/plain": [
       "<Figure size 640x480 with 1 Axes>"
      ]
     },
     "metadata": {},
     "output_type": "display_data"
    }
   ],
   "source": [
    "ax = activation_by_country.plot.bar(\n",
    "    x='country_code',\n",
    "    xlabel='Country',\n",
    "    ylabel='Number of Teams')\n",
    "ax.legend(loc='center left', bbox_to_anchor=(1,0.5))"
   ]
  },
  {
   "cell_type": "code",
   "execution_count": 156,
   "id": "4ead4b37",
   "metadata": {},
   "outputs": [
    {
     "data": {
      "text/html": [
       "<div>\n",
       "<style scoped>\n",
       "    .dataframe tbody tr th:only-of-type {\n",
       "        vertical-align: middle;\n",
       "    }\n",
       "\n",
       "    .dataframe tbody tr th {\n",
       "        vertical-align: top;\n",
       "    }\n",
       "\n",
       "    .dataframe thead th {\n",
       "        text-align: right;\n",
       "    }\n",
       "</style>\n",
       "<table border=\"1\" class=\"dataframe\">\n",
       "  <thead>\n",
       "    <tr style=\"text-align: right;\">\n",
       "      <th></th>\n",
       "      <th>country_code</th>\n",
       "      <th>total_teams</th>\n",
       "      <th>first_membership_flag</th>\n",
       "      <th>first_event_flag</th>\n",
       "      <th>first_payment_flag</th>\n",
       "    </tr>\n",
       "  </thead>\n",
       "  <tbody>\n",
       "    <tr>\n",
       "      <th>0</th>\n",
       "      <td>DEU</td>\n",
       "      <td>40</td>\n",
       "      <td>40</td>\n",
       "      <td>36</td>\n",
       "      <td>29</td>\n",
       "    </tr>\n",
       "    <tr>\n",
       "      <th>1</th>\n",
       "      <td>GBR</td>\n",
       "      <td>2993</td>\n",
       "      <td>2954</td>\n",
       "      <td>2684</td>\n",
       "      <td>2408</td>\n",
       "    </tr>\n",
       "    <tr>\n",
       "      <th>2</th>\n",
       "      <td>NOR</td>\n",
       "      <td>969</td>\n",
       "      <td>950</td>\n",
       "      <td>883</td>\n",
       "      <td>696</td>\n",
       "    </tr>\n",
       "    <tr>\n",
       "      <th>3</th>\n",
       "      <td>USA</td>\n",
       "      <td>180</td>\n",
       "      <td>179</td>\n",
       "      <td>169</td>\n",
       "      <td>150</td>\n",
       "    </tr>\n",
       "  </tbody>\n",
       "</table>\n",
       "</div>"
      ],
      "text/plain": [
       "  country_code  total_teams  first_membership_flag  first_event_flag  \\\n",
       "0          DEU           40                     40                36   \n",
       "1          GBR         2993                   2954              2684   \n",
       "2          NOR          969                    950               883   \n",
       "3          USA          180                    179               169   \n",
       "\n",
       "   first_payment_flag  \n",
       "0                  29  \n",
       "1                2408  \n",
       "2                 696  \n",
       "3                 150  "
      ]
     },
     "execution_count": 156,
     "metadata": {},
     "output_type": "execute_result"
    }
   ],
   "source": [
    "activation_by_country"
   ]
  },
  {
   "cell_type": "code",
   "execution_count": 157,
   "id": "8b8b999d",
   "metadata": {},
   "outputs": [],
   "source": [
    "activation_by_country_pct = activation_by_country.copy(deep=True)\n",
    "for name in ['membership', 'event', 'payment']:\n",
    "    activation_by_country_pct[f'first_{name}_pct'] = (\n",
    "        activation_by_country_pct[f'first_{name}_flag'] /\n",
    "        activation_by_country_pct['total_teams']\n",
    "    )\n",
    "    activation_by_country_pct.drop(\n",
    "        columns=f'first_{name}_flag',\n",
    "        inplace=True\n",
    "    )\n",
    "activation_by_country_pct.drop(\n",
    "    columns = 'total_teams',\n",
    "    inplace=True\n",
    ")"
   ]
  },
  {
   "cell_type": "code",
   "execution_count": 158,
   "id": "9f0da00e",
   "metadata": {},
   "outputs": [
    {
     "data": {
      "text/plain": [
       "<matplotlib.legend.Legend at 0x1aecdc5e5b0>"
      ]
     },
     "execution_count": 158,
     "metadata": {},
     "output_type": "execute_result"
    },
    {
     "data": {
      "image/png": "[encoded data removed]",
      "text/plain": [
       "<Figure size 640x480 with 1 Axes>"
      ]
     },
     "metadata": {},
     "output_type": "display_data"
    }
   ],
   "source": [
    "ax = activation_by_country_pct.plot.bar(\n",
    "    x='country_code',\n",
    "    colormap='Set1',\n",
    "    xlabel='Country',\n",
    "    ylabel='Percentage of Teams'\n",
    ")\n",
    "ax.legend(loc='center left', bbox_to_anchor=(1,0.5))"
   ]
  },
  {
   "cell_type": "markdown",
   "id": "5513a86e",
   "metadata": {},
   "source": [
    "### Weekly Retention"
   ]
  },
  {
   "cell_type": "markdown",
   "id": "eb2e6376",
   "metadata": {},
   "source": [
    "#### What percentage of users present in next week?"
   ]
  },
  {
   "cell_type": "markdown",
   "id": "b456d400",
   "metadata": {},
   "source": [
    "Why I chose it: Shows how effective we are in retaining teams for scheduling events week over week"
   ]
  },
  {
   "cell_type": "markdown",
   "id": "2f901cbd",
   "metadata": {},
   "source": [
    "How it’s computed: Calculates if a week has any events in the next week using a join, and flags those present in both as a retained. Then divides the number of teams that have an event next week by the number of teams in the current week\n"
   ]
  },
  {
   "cell_type": "markdown",
   "id": "274ede55",
   "metadata": {},
   "source": [
    "Any assumptions: None"
   ]
  },
  {
   "cell_type": "code",
   "execution_count": 111,
   "id": "586be032",
   "metadata": {},
   "outputs": [],
   "source": [
    "# Merge to find returning teams\n",
    "retention = pd.merge(\n",
    "    team_week.loc[team_week.num_events>0].assign(next_week=lambda x: x['week'] + pd.Timedelta(weeks=1)),\n",
    "    team_week.loc[team_week.num_events>0][['team_id', 'week']].rename(columns={'week': 'next_week'}),\n",
    "    on=['team_id', 'next_week'],\n",
    "    how='left',\n",
    "    indicator=True\n",
    ")"
   ]
  },
  {
   "cell_type": "code",
   "execution_count": 112,
   "id": "51995fd1",
   "metadata": {},
   "outputs": [],
   "source": [
    "# Add retention flags\n",
    "retention['retained'] = retention['_merge'] == 'both'\n",
    "retention.drop(columns='_merge', inplace=True)"
   ]
  },
  {
   "cell_type": "code",
   "execution_count": 113,
   "id": "2bfe7ece",
   "metadata": {},
   "outputs": [],
   "source": [
    "# Weekly retention rate (removing last item with no matches)\n",
    "weekly_retention = retention.groupby('week').agg(\n",
    "    teams_in_week=('team_id', 'nunique'),\n",
    "    teams_retained_next_week=('retained', 'sum'),\n",
    ").assign(retention_rate=lambda x: x['teams_retained_next_week'] / x['teams_in_week']).reset_index().iloc[:-1]"
   ]
  },
  {
   "cell_type": "code",
   "execution_count": 116,
   "id": "1dfc1ba2",
   "metadata": {},
   "outputs": [
    {
     "data": {
      "text/html": [
       "<div>\n",
       "<style scoped>\n",
       "    .dataframe tbody tr th:only-of-type {\n",
       "        vertical-align: middle;\n",
       "    }\n",
       "\n",
       "    .dataframe tbody tr th {\n",
       "        vertical-align: top;\n",
       "    }\n",
       "\n",
       "    .dataframe thead th {\n",
       "        text-align: right;\n",
       "    }\n",
       "</style>\n",
       "<table border=\"1\" class=\"dataframe\">\n",
       "  <thead>\n",
       "    <tr style=\"text-align: right;\">\n",
       "      <th></th>\n",
       "      <th>week</th>\n",
       "      <th>teams_in_week</th>\n",
       "      <th>teams_retained_next_week</th>\n",
       "      <th>retention_rate</th>\n",
       "    </tr>\n",
       "  </thead>\n",
       "  <tbody>\n",
       "    <tr>\n",
       "      <th>0</th>\n",
       "      <td>2024-01-01</td>\n",
       "      <td>13</td>\n",
       "      <td>12</td>\n",
       "      <td>0.923077</td>\n",
       "    </tr>\n",
       "    <tr>\n",
       "      <th>1</th>\n",
       "      <td>2024-01-08</td>\n",
       "      <td>69</td>\n",
       "      <td>55</td>\n",
       "      <td>0.797101</td>\n",
       "    </tr>\n",
       "    <tr>\n",
       "      <th>2</th>\n",
       "      <td>2024-01-15</td>\n",
       "      <td>95</td>\n",
       "      <td>84</td>\n",
       "      <td>0.884211</td>\n",
       "    </tr>\n",
       "    <tr>\n",
       "      <th>3</th>\n",
       "      <td>2024-01-22</td>\n",
       "      <td>136</td>\n",
       "      <td>118</td>\n",
       "      <td>0.867647</td>\n",
       "    </tr>\n",
       "    <tr>\n",
       "      <th>4</th>\n",
       "      <td>2024-01-29</td>\n",
       "      <td>182</td>\n",
       "      <td>146</td>\n",
       "      <td>0.802198</td>\n",
       "    </tr>\n",
       "    <tr>\n",
       "      <th>5</th>\n",
       "      <td>2024-02-05</td>\n",
       "      <td>203</td>\n",
       "      <td>168</td>\n",
       "      <td>0.827586</td>\n",
       "    </tr>\n",
       "    <tr>\n",
       "      <th>6</th>\n",
       "      <td>2024-02-12</td>\n",
       "      <td>240</td>\n",
       "      <td>187</td>\n",
       "      <td>0.779167</td>\n",
       "    </tr>\n",
       "    <tr>\n",
       "      <th>7</th>\n",
       "      <td>2024-02-19</td>\n",
       "      <td>273</td>\n",
       "      <td>216</td>\n",
       "      <td>0.791209</td>\n",
       "    </tr>\n",
       "    <tr>\n",
       "      <th>8</th>\n",
       "      <td>2024-02-26</td>\n",
       "      <td>294</td>\n",
       "      <td>264</td>\n",
       "      <td>0.897959</td>\n",
       "    </tr>\n",
       "    <tr>\n",
       "      <th>9</th>\n",
       "      <td>2024-03-04</td>\n",
       "      <td>374</td>\n",
       "      <td>321</td>\n",
       "      <td>0.858289</td>\n",
       "    </tr>\n",
       "    <tr>\n",
       "      <th>10</th>\n",
       "      <td>2024-03-11</td>\n",
       "      <td>383</td>\n",
       "      <td>334</td>\n",
       "      <td>0.872063</td>\n",
       "    </tr>\n",
       "    <tr>\n",
       "      <th>11</th>\n",
       "      <td>2024-03-18</td>\n",
       "      <td>417</td>\n",
       "      <td>229</td>\n",
       "      <td>0.549161</td>\n",
       "    </tr>\n",
       "    <tr>\n",
       "      <th>12</th>\n",
       "      <td>2024-03-25</td>\n",
       "      <td>287</td>\n",
       "      <td>196</td>\n",
       "      <td>0.682927</td>\n",
       "    </tr>\n",
       "    <tr>\n",
       "      <th>13</th>\n",
       "      <td>2024-04-01</td>\n",
       "      <td>364</td>\n",
       "      <td>309</td>\n",
       "      <td>0.848901</td>\n",
       "    </tr>\n",
       "    <tr>\n",
       "      <th>14</th>\n",
       "      <td>2024-04-08</td>\n",
       "      <td>489</td>\n",
       "      <td>415</td>\n",
       "      <td>0.848671</td>\n",
       "    </tr>\n",
       "    <tr>\n",
       "      <th>15</th>\n",
       "      <td>2024-04-15</td>\n",
       "      <td>564</td>\n",
       "      <td>489</td>\n",
       "      <td>0.867021</td>\n",
       "    </tr>\n",
       "    <tr>\n",
       "      <th>16</th>\n",
       "      <td>2024-04-22</td>\n",
       "      <td>617</td>\n",
       "      <td>526</td>\n",
       "      <td>0.852512</td>\n",
       "    </tr>\n",
       "    <tr>\n",
       "      <th>17</th>\n",
       "      <td>2024-04-29</td>\n",
       "      <td>695</td>\n",
       "      <td>580</td>\n",
       "      <td>0.834532</td>\n",
       "    </tr>\n",
       "    <tr>\n",
       "      <th>18</th>\n",
       "      <td>2024-05-06</td>\n",
       "      <td>752</td>\n",
       "      <td>652</td>\n",
       "      <td>0.867021</td>\n",
       "    </tr>\n",
       "    <tr>\n",
       "      <th>19</th>\n",
       "      <td>2024-05-13</td>\n",
       "      <td>814</td>\n",
       "      <td>681</td>\n",
       "      <td>0.836609</td>\n",
       "    </tr>\n",
       "    <tr>\n",
       "      <th>20</th>\n",
       "      <td>2024-05-20</td>\n",
       "      <td>804</td>\n",
       "      <td>611</td>\n",
       "      <td>0.759950</td>\n",
       "    </tr>\n",
       "    <tr>\n",
       "      <th>21</th>\n",
       "      <td>2024-05-27</td>\n",
       "      <td>769</td>\n",
       "      <td>665</td>\n",
       "      <td>0.864759</td>\n",
       "    </tr>\n",
       "    <tr>\n",
       "      <th>22</th>\n",
       "      <td>2024-06-03</td>\n",
       "      <td>910</td>\n",
       "      <td>773</td>\n",
       "      <td>0.849451</td>\n",
       "    </tr>\n",
       "    <tr>\n",
       "      <th>23</th>\n",
       "      <td>2024-06-10</td>\n",
       "      <td>962</td>\n",
       "      <td>782</td>\n",
       "      <td>0.812890</td>\n",
       "    </tr>\n",
       "    <tr>\n",
       "      <th>24</th>\n",
       "      <td>2024-06-17</td>\n",
       "      <td>958</td>\n",
       "      <td>736</td>\n",
       "      <td>0.768267</td>\n",
       "    </tr>\n",
       "    <tr>\n",
       "      <th>25</th>\n",
       "      <td>2024-06-24</td>\n",
       "      <td>931</td>\n",
       "      <td>704</td>\n",
       "      <td>0.756176</td>\n",
       "    </tr>\n",
       "    <tr>\n",
       "      <th>26</th>\n",
       "      <td>2024-07-01</td>\n",
       "      <td>913</td>\n",
       "      <td>777</td>\n",
       "      <td>0.851041</td>\n",
       "    </tr>\n",
       "    <tr>\n",
       "      <th>27</th>\n",
       "      <td>2024-07-08</td>\n",
       "      <td>970</td>\n",
       "      <td>781</td>\n",
       "      <td>0.805155</td>\n",
       "    </tr>\n",
       "    <tr>\n",
       "      <th>28</th>\n",
       "      <td>2024-07-15</td>\n",
       "      <td>982</td>\n",
       "      <td>780</td>\n",
       "      <td>0.794297</td>\n",
       "    </tr>\n",
       "    <tr>\n",
       "      <th>29</th>\n",
       "      <td>2024-07-22</td>\n",
       "      <td>970</td>\n",
       "      <td>764</td>\n",
       "      <td>0.787629</td>\n",
       "    </tr>\n",
       "    <tr>\n",
       "      <th>30</th>\n",
       "      <td>2024-07-29</td>\n",
       "      <td>991</td>\n",
       "      <td>803</td>\n",
       "      <td>0.810293</td>\n",
       "    </tr>\n",
       "    <tr>\n",
       "      <th>31</th>\n",
       "      <td>2024-08-05</td>\n",
       "      <td>1074</td>\n",
       "      <td>913</td>\n",
       "      <td>0.850093</td>\n",
       "    </tr>\n",
       "    <tr>\n",
       "      <th>32</th>\n",
       "      <td>2024-08-12</td>\n",
       "      <td>1235</td>\n",
       "      <td>1042</td>\n",
       "      <td>0.843725</td>\n",
       "    </tr>\n",
       "    <tr>\n",
       "      <th>33</th>\n",
       "      <td>2024-08-19</td>\n",
       "      <td>1394</td>\n",
       "      <td>1201</td>\n",
       "      <td>0.861549</td>\n",
       "    </tr>\n",
       "    <tr>\n",
       "      <th>34</th>\n",
       "      <td>2024-08-26</td>\n",
       "      <td>1582</td>\n",
       "      <td>1414</td>\n",
       "      <td>0.893805</td>\n",
       "    </tr>\n",
       "    <tr>\n",
       "      <th>35</th>\n",
       "      <td>2024-09-02</td>\n",
       "      <td>1911</td>\n",
       "      <td>1740</td>\n",
       "      <td>0.910518</td>\n",
       "    </tr>\n",
       "    <tr>\n",
       "      <th>36</th>\n",
       "      <td>2024-09-09</td>\n",
       "      <td>2076</td>\n",
       "      <td>1880</td>\n",
       "      <td>0.905588</td>\n",
       "    </tr>\n",
       "    <tr>\n",
       "      <th>37</th>\n",
       "      <td>2024-09-16</td>\n",
       "      <td>2140</td>\n",
       "      <td>1946</td>\n",
       "      <td>0.909346</td>\n",
       "    </tr>\n",
       "    <tr>\n",
       "      <th>38</th>\n",
       "      <td>2024-09-23</td>\n",
       "      <td>2190</td>\n",
       "      <td>1903</td>\n",
       "      <td>0.868950</td>\n",
       "    </tr>\n",
       "    <tr>\n",
       "      <th>39</th>\n",
       "      <td>2024-09-30</td>\n",
       "      <td>2165</td>\n",
       "      <td>1826</td>\n",
       "      <td>0.843418</td>\n",
       "    </tr>\n",
       "    <tr>\n",
       "      <th>40</th>\n",
       "      <td>2024-10-07</td>\n",
       "      <td>2162</td>\n",
       "      <td>1926</td>\n",
       "      <td>0.890842</td>\n",
       "    </tr>\n",
       "    <tr>\n",
       "      <th>41</th>\n",
       "      <td>2024-10-14</td>\n",
       "      <td>2330</td>\n",
       "      <td>2014</td>\n",
       "      <td>0.864378</td>\n",
       "    </tr>\n",
       "    <tr>\n",
       "      <th>42</th>\n",
       "      <td>2024-10-21</td>\n",
       "      <td>2270</td>\n",
       "      <td>1838</td>\n",
       "      <td>0.809692</td>\n",
       "    </tr>\n",
       "    <tr>\n",
       "      <th>43</th>\n",
       "      <td>2024-10-28</td>\n",
       "      <td>2168</td>\n",
       "      <td>1965</td>\n",
       "      <td>0.906365</td>\n",
       "    </tr>\n",
       "    <tr>\n",
       "      <th>44</th>\n",
       "      <td>2024-11-04</td>\n",
       "      <td>2507</td>\n",
       "      <td>2300</td>\n",
       "      <td>0.917431</td>\n",
       "    </tr>\n",
       "    <tr>\n",
       "      <th>45</th>\n",
       "      <td>2024-11-11</td>\n",
       "      <td>2536</td>\n",
       "      <td>2131</td>\n",
       "      <td>0.840300</td>\n",
       "    </tr>\n",
       "    <tr>\n",
       "      <th>46</th>\n",
       "      <td>2024-11-18</td>\n",
       "      <td>2371</td>\n",
       "      <td>2079</td>\n",
       "      <td>0.876845</td>\n",
       "    </tr>\n",
       "    <tr>\n",
       "      <th>47</th>\n",
       "      <td>2024-11-25</td>\n",
       "      <td>2475</td>\n",
       "      <td>2084</td>\n",
       "      <td>0.842020</td>\n",
       "    </tr>\n",
       "    <tr>\n",
       "      <th>48</th>\n",
       "      <td>2024-12-02</td>\n",
       "      <td>2392</td>\n",
       "      <td>2059</td>\n",
       "      <td>0.860786</td>\n",
       "    </tr>\n",
       "    <tr>\n",
       "      <th>49</th>\n",
       "      <td>2024-12-09</td>\n",
       "      <td>2428</td>\n",
       "      <td>1543</td>\n",
       "      <td>0.635502</td>\n",
       "    </tr>\n",
       "    <tr>\n",
       "      <th>50</th>\n",
       "      <td>2024-12-16</td>\n",
       "      <td>1679</td>\n",
       "      <td>379</td>\n",
       "      <td>0.225730</td>\n",
       "    </tr>\n",
       "    <tr>\n",
       "      <th>51</th>\n",
       "      <td>2024-12-23</td>\n",
       "      <td>475</td>\n",
       "      <td>117</td>\n",
       "      <td>0.246316</td>\n",
       "    </tr>\n",
       "  </tbody>\n",
       "</table>\n",
       "</div>"
      ],
      "text/plain": [
       "         week  teams_in_week  teams_retained_next_week  retention_rate\n",
       "0  2024-01-01             13                        12        0.923077\n",
       "1  2024-01-08             69                        55        0.797101\n",
       "2  2024-01-15             95                        84        0.884211\n",
       "3  2024-01-22            136                       118        0.867647\n",
       "4  2024-01-29            182                       146        0.802198\n",
       "5  2024-02-05            203                       168        0.827586\n",
       "6  2024-02-12            240                       187        0.779167\n",
       "7  2024-02-19            273                       216        0.791209\n",
       "8  2024-02-26            294                       264        0.897959\n",
       "9  2024-03-04            374                       321        0.858289\n",
       "10 2024-03-11            383                       334        0.872063\n",
       "11 2024-03-18            417                       229        0.549161\n",
       "12 2024-03-25            287                       196        0.682927\n",
       "13 2024-04-01            364                       309        0.848901\n",
       "14 2024-04-08            489                       415        0.848671\n",
       "15 2024-04-15            564                       489        0.867021\n",
       "16 2024-04-22            617                       526        0.852512\n",
       "17 2024-04-29            695                       580        0.834532\n",
       "18 2024-05-06            752                       652        0.867021\n",
       "19 2024-05-13            814                       681        0.836609\n",
       "20 2024-05-20            804                       611        0.759950\n",
       "21 2024-05-27            769                       665        0.864759\n",
       "22 2024-06-03            910                       773        0.849451\n",
       "23 2024-06-10            962                       782        0.812890\n",
       "24 2024-06-17            958                       736        0.768267\n",
       "25 2024-06-24            931                       704        0.756176\n",
       "26 2024-07-01            913                       777        0.851041\n",
       "27 2024-07-08            970                       781        0.805155\n",
       "28 2024-07-15            982                       780        0.794297\n",
       "29 2024-07-22            970                       764        0.787629\n",
       "30 2024-07-29            991                       803        0.810293\n",
       "31 2024-08-05           1074                       913        0.850093\n",
       "32 2024-08-12           1235                      1042        0.843725\n",
       "33 2024-08-19           1394                      1201        0.861549\n",
       "34 2024-08-26           1582                      1414        0.893805\n",
       "35 2024-09-02           1911                      1740        0.910518\n",
       "36 2024-09-09           2076                      1880        0.905588\n",
       "37 2024-09-16           2140                      1946        0.909346\n",
       "38 2024-09-23           2190                      1903        0.868950\n",
       "39 2024-09-30           2165                      1826        0.843418\n",
       "40 2024-10-07           2162                      1926        0.890842\n",
       "41 2024-10-14           2330                      2014        0.864378\n",
       "42 2024-10-21           2270                      1838        0.809692\n",
       "43 2024-10-28           2168                      1965        0.906365\n",
       "44 2024-11-04           2507                      2300        0.917431\n",
       "45 2024-11-11           2536                      2131        0.840300\n",
       "46 2024-11-18           2371                      2079        0.876845\n",
       "47 2024-11-25           2475                      2084        0.842020\n",
       "48 2024-12-02           2392                      2059        0.860786\n",
       "49 2024-12-09           2428                      1543        0.635502\n",
       "50 2024-12-16           1679                       379        0.225730\n",
       "51 2024-12-23            475                       117        0.246316"
      ]
     },
     "execution_count": 116,
     "metadata": {},
     "output_type": "execute_result"
    }
   ],
   "source": [
    "weekly_retention"
   ]
  },
  {
   "cell_type": "code",
   "execution_count": 144,
   "id": "d9a42280",
   "metadata": {},
   "outputs": [
    {
     "data": {
      "text/plain": [
       "<Axes: xlabel='Week', ylabel='Percentage of Teams Retained'>"
      ]
     },
     "execution_count": 144,
     "metadata": {},
     "output_type": "execute_result"
    },
    {
     "data": {
      "image/png": "[encoded data removed]",
      "text/plain": [
       "<Figure size 640x480 with 1 Axes>"
      ]
     },
     "metadata": {},
     "output_type": "display_data"
    }
   ],
   "source": [
    "weekly_retention.plot.line(\n",
    "    x='week',\n",
    "    y='retention_rate',\n",
    "    ylim=(0, 1),\n",
    "    xlabel='Week',\n",
    "    ylabel='Percentage of Teams Retained',\n",
    "    legend=False\n",
    ")\n"
   ]
  },
  {
   "cell_type": "markdown",
   "id": "5e2f3a82",
   "metadata": {},
   "source": [
    "### Engagement Depth"
   ]
  },
  {
   "cell_type": "markdown",
   "id": "103ecde0",
   "metadata": {},
   "source": [
    "#### How engaged have clubs been in the past 4 weeks?"
   ]
  },
  {
   "cell_type": "markdown",
   "id": "8b218602",
   "metadata": {},
   "source": [
    "Why I chose it: Shows our ability to keep clubs engaged with the application on a month to month basis"
   ]
  },
  {
   "cell_type": "markdown",
   "id": "650faf66",
   "metadata": {},
   "source": [
    "How it’s computed: Calculates number of weeks in the past 4 that have had an event, and maps it to a categorical value.\n"
   ]
  },
  {
   "cell_type": "markdown",
   "id": "a3015335",
   "metadata": {},
   "source": [
    "Any assumptions: Cutoffs for low, medium, high, and very high engagement are 1, 2, 3, and 4 for the past 4 weeks"
   ]
  },
  {
   "cell_type": "code",
   "execution_count": 118,
   "id": "f7c10450",
   "metadata": {},
   "outputs": [],
   "source": [
    "# Test to make sure counts of weekly activity is accurate\n",
    "assert all(weekly_team_event_activity.groupby('week').weekly_event_active_flag.sum().values[:-1] == weekly_retention.teams_in_week.values)"
   ]
  },
  {
   "cell_type": "code",
   "execution_count": 119,
   "id": "3e9aaa88",
   "metadata": {},
   "outputs": [],
   "source": [
    "# Aggregate rolling scores\n",
    "rolling_score_agged = weekly_team_event_activity.groupby(\n",
    "    ['week', 'rolling_event_engagement_level']\n",
    "    ).agg(\n",
    "    team_count=('team_id', 'nunique')\n",
    "    ).reset_index().pivot(\n",
    "        index='week', columns='rolling_event_engagement_level', values='team_count'\n",
    "    ).fillna(0)"
   ]
  },
  {
   "cell_type": "code",
   "execution_count": 120,
   "id": "93d12648",
   "metadata": {},
   "outputs": [
    {
     "data": {
      "text/plain": [
       "<Axes: title={'center': 'Rolling Engagement Level Over Time'}, xlabel='Week', ylabel='Number of Teams'>"
      ]
     },
     "execution_count": 120,
     "metadata": {},
     "output_type": "execute_result"
    },
    {
     "data": {
      "image/png": "[encoded data removed]",
      "text/plain": [
       "<Figure size 640x480 with 1 Axes>"
      ]
     },
     "metadata": {},
     "output_type": "display_data"
    }
   ],
   "source": [
    "# Plot rolling engagement levels as line chart\n",
    "rolling_score_agged.plot.line(\n",
    "        colormap=truncate_colormap('Reds', 0.2),\n",
    "        title='Rolling Engagement Level Over Time',\n",
    "        xlabel='Week',\n",
    "        ylabel='Number of Teams',\n",
    "        ylim=(0,None))"
   ]
  },
  {
   "cell_type": "code",
   "execution_count": 121,
   "id": "b1e7d21f",
   "metadata": {},
   "outputs": [],
   "source": [
    "# Get row-wise percentages of total\n",
    "row_percent = rolling_score_agged.div(rolling_score_agged.sum(axis=1), axis=0) * 100"
   ]
  },
  {
   "cell_type": "code",
   "execution_count": 122,
   "id": "7338c4eb",
   "metadata": {},
   "outputs": [
    {
     "data": {
      "image/png": "[encoded data removed]",
      "text/plain": [
       "<Figure size 800x500 with 1 Axes>"
      ]
     },
     "metadata": {},
     "output_type": "display_data"
    }
   ],
   "source": [
    "# Plot as stacked area chart\n",
    "plt.figure(figsize=(8, 5))\n",
    "plt.stackplot(row_percent.index, \n",
    "              row_percent.T,\n",
    "              labels=row_percent.columns,\n",
    "              alpha=0.8,\n",
    "              colors=truncate_colormap('Reds', n=len(row_percent.columns), return_cmap=False))\n",
    "\n",
    "plt.title('Club Engagement Levels (Last 4 Weeks) Percentage of Total')\n",
    "plt.xlabel('Week')\n",
    "plt.ylabel('Percentage')\n",
    "plt.legend(loc='center left', title='Rolling Engagement Level', bbox_to_anchor=(1,0.5))\n",
    "plt.grid(True)\n",
    "plt.tight_layout()\n",
    "plt.show()"
   ]
  },
  {
   "cell_type": "markdown",
   "id": "a768cc76",
   "metadata": {},
   "source": [
    "#### How engaged have clubs been since they've been first activated?"
   ]
  },
  {
   "cell_type": "markdown",
   "id": "4d47f7fb",
   "metadata": {},
   "source": [
    "Why I chose it: Shows our ability to keep clubs engaged with the application since their inception"
   ]
  },
  {
   "cell_type": "markdown",
   "id": "bc999869",
   "metadata": {},
   "source": [
    "How it’s computed: Calculates total weeks a club has been active, and then divides the cumulative number of weeks that it has had an event by that total.\n"
   ]
  },
  {
   "cell_type": "markdown",
   "id": "903eb855",
   "metadata": {},
   "source": [
    "Any assumptions: Cutoffs for low, medium, high, and very high engagement are 40, 60, 80, 100"
   ]
  },
  {
   "cell_type": "code",
   "execution_count": 134,
   "id": "ef741406",
   "metadata": {},
   "outputs": [],
   "source": [
    "# Create column for cummulative weeks active\n",
    "weekly_team_activity_enhanced = weekly_team_event_activity.copy(deep=True)\n",
    "weekly_team_activity_enhanced['total_event_active_weeks'] = weekly_team_activity_enhanced.groupby(['team_id'])['weekly_event_active_flag'].cumsum()"
   ]
  },
  {
   "cell_type": "code",
   "execution_count": 135,
   "id": "c90f4297",
   "metadata": {},
   "outputs": [],
   "source": [
    "# Create column for weeks since week activate\n",
    "cumulative_weekly_team_activity = pd.merge(\n",
    "    weekly_team_activity_enhanced,\n",
    "    weekly_team_activity_enhanced.groupby(['team_id']).week.min().rename('first_week'),\n",
    "    left_on='team_id',\n",
    "    right_index=True)\n",
    "\n",
    "cumulative_weekly_team_activity['weeks_since_activation'] = ((cumulative_weekly_team_activity['week'] - cumulative_weekly_team_activity['first_week']).dt.days / 7) + 1\n",
    "cumulative_weekly_team_activity.drop(columns='first_week', inplace=True)"
   ]
  },
  {
   "cell_type": "code",
   "execution_count": 136,
   "id": "1bf37135",
   "metadata": {},
   "outputs": [],
   "source": [
    "# Create column for total activity percentage\n",
    "cumulative_weekly_team_activity['total_engagement_percentage'] = (cumulative_weekly_team_activity['total_event_active_weeks'] / cumulative_weekly_team_activity['weeks_since_activation']) * 100\n"
   ]
  },
  {
   "cell_type": "code",
   "execution_count": 137,
   "id": "1fc5a0cf",
   "metadata": {},
   "outputs": [],
   "source": [
    "# Create Engagement Level Column from activity percentage\n",
    "cumulative_weekly_team_activity['total_engagement_level'] = pd.cut(\n",
    "    cumulative_weekly_team_activity['total_engagement_percentage'],\n",
    "    bins=[0, 40, 60, 80, 100],\n",
    "    labels=['Low', 'Moderate', 'High', 'Very High']\n",
    ")"
   ]
  },
  {
   "cell_type": "code",
   "execution_count": 138,
   "id": "32ce3644",
   "metadata": {},
   "outputs": [],
   "source": [
    "# Aggregate rolling scores\n",
    "total_score_agged = cumulative_weekly_team_activity.groupby(\n",
    "    ['week', 'total_engagement_level']\n",
    "    ).agg(\n",
    "    team_count=('team_id', 'nunique')\n",
    "    ).reset_index().pivot(\n",
    "        index='week', columns='total_engagement_level', values='team_count'\n",
    "    ).fillna(0)"
   ]
  },
  {
   "cell_type": "code",
   "execution_count": 139,
   "id": "70113fc6",
   "metadata": {},
   "outputs": [
    {
     "data": {
      "text/plain": [
       "<Axes: title={'center': 'Total Engagement Level Over Time'}, xlabel='Week', ylabel='Number of Teams'>"
      ]
     },
     "execution_count": 139,
     "metadata": {},
     "output_type": "execute_result"
    },
    {
     "data": {
      "image/png": "[encoded data removed]",
      "text/plain": [
       "<Figure size 640x480 with 1 Axes>"
      ]
     },
     "metadata": {},
     "output_type": "display_data"
    }
   ],
   "source": [
    "# Plot rolling engagement levels as line chart\n",
    "total_score_agged.plot.line(\n",
    "        colormap=truncate_colormap('Reds', 0.2),\n",
    "        title='Total Engagement Level Over Time',\n",
    "        xlabel='Week',\n",
    "        ylabel='Number of Teams',\n",
    "        ylim=(0,None))"
   ]
  },
  {
   "cell_type": "code",
   "execution_count": 140,
   "id": "a01af63c",
   "metadata": {},
   "outputs": [],
   "source": [
    "# Get row-wise percentages of total\n",
    "row_percent = total_score_agged.div(total_score_agged.sum(axis=1), axis=0) * 100"
   ]
  },
  {
   "cell_type": "code",
   "execution_count": 141,
   "id": "21a5d429",
   "metadata": {},
   "outputs": [
    {
     "data": {
      "image/png": "[encoded data removed]",
      "text/plain": [
       "<Figure size 800x500 with 1 Axes>"
      ]
     },
     "metadata": {},
     "output_type": "display_data"
    }
   ],
   "source": [
    "# Plot as stacked area chart\n",
    "plt.figure(figsize=(8, 5))\n",
    "plt.stackplot(row_percent.index, \n",
    "              row_percent.T,\n",
    "              labels=row_percent.columns,\n",
    "              alpha=0.8,\n",
    "              colors=truncate_colormap('Reds', n=len(row_percent.columns), return_cmap=False))\n",
    "\n",
    "plt.title('Club Engagement Levels Since Activation (Percentage of Total Weeks Active)')\n",
    "plt.xlabel('Week')\n",
    "plt.ylabel('Percentage')\n",
    "plt.legend(loc='center left', title='Total Engagement Level', bbox_to_anchor=(1,0.5))\n",
    "plt.grid(True)\n",
    "plt.tight_layout()\n",
    "plt.show()"
   ]
  },
  {
   "cell_type": "markdown",
   "id": "f1f05153",
   "metadata": {},
   "source": [
    "### Monetization"
   ]
  },
  {
   "cell_type": "markdown",
   "id": "6871acc7",
   "metadata": {},
   "source": [
    "#### High Level Metrics"
   ]
  },
  {
   "cell_type": "code",
   "execution_count": 147,
   "id": "6028697d",
   "metadata": {},
   "outputs": [
    {
     "data": {
      "text/plain": [
       "0.8035524920466596"
      ]
     },
     "execution_count": 147,
     "metadata": {},
     "output_type": "execute_result"
    }
   ],
   "source": [
    "# Percentage of teams with events that have used spond for payments at least once\n",
    "teams_activation.loc[teams_activation.first_event_flag].first_payment_flag.sum()/ teams_activation.loc[teams_activation.first_event_flag].first_payment_flag.count()\n"
   ]
  },
  {
   "cell_type": "code",
   "execution_count": 132,
   "id": "f12a92f4",
   "metadata": {},
   "outputs": [
    {
     "data": {
      "text/html": [
       "<div>\n",
       "<style scoped>\n",
       "    .dataframe tbody tr th:only-of-type {\n",
       "        vertical-align: middle;\n",
       "    }\n",
       "\n",
       "    .dataframe tbody tr th {\n",
       "        vertical-align: top;\n",
       "    }\n",
       "\n",
       "    .dataframe thead th {\n",
       "        text-align: right;\n",
       "    }\n",
       "</style>\n",
       "<table border=\"1\" class=\"dataframe\">\n",
       "  <thead>\n",
       "    <tr style=\"text-align: right;\">\n",
       "      <th></th>\n",
       "      <th>country_code</th>\n",
       "      <th>payment_activation_rate</th>\n",
       "      <th>total_activated_clubs</th>\n",
       "      <th>spond_revenue</th>\n",
       "    </tr>\n",
       "  </thead>\n",
       "  <tbody>\n",
       "    <tr>\n",
       "      <th>0</th>\n",
       "      <td>DEU</td>\n",
       "      <td>0.750000</td>\n",
       "      <td>36</td>\n",
       "      <td>80.339148</td>\n",
       "    </tr>\n",
       "    <tr>\n",
       "      <th>1</th>\n",
       "      <td>GBR</td>\n",
       "      <td>0.826379</td>\n",
       "      <td>2684</td>\n",
       "      <td>3602.096338</td>\n",
       "    </tr>\n",
       "    <tr>\n",
       "      <th>2</th>\n",
       "      <td>NOR</td>\n",
       "      <td>0.730464</td>\n",
       "      <td>883</td>\n",
       "      <td>212712.321649</td>\n",
       "    </tr>\n",
       "    <tr>\n",
       "      <th>3</th>\n",
       "      <td>USA</td>\n",
       "      <td>0.834320</td>\n",
       "      <td>169</td>\n",
       "      <td>739.436165</td>\n",
       "    </tr>\n",
       "  </tbody>\n",
       "</table>\n",
       "</div>"
      ],
      "text/plain": [
       "  country_code  payment_activation_rate  total_activated_clubs  spond_revenue\n",
       "0          DEU                 0.750000                     36      80.339148\n",
       "1          GBR                 0.826379                   2684    3602.096338\n",
       "2          NOR                 0.730464                    883  212712.321649\n",
       "3          USA                 0.834320                    169     739.436165"
      ]
     },
     "execution_count": 132,
     "metadata": {},
     "output_type": "execute_result"
    }
   ],
   "source": [
    "# Payment activation, clubs activated, and total revenue by country\n",
    "conversion_rate_country = (teams_activation.loc[teams_activation.first_event_flag].groupby('country_code').first_payment_flag.sum() / teams_activation.loc[teams_activation.first_event_flag].groupby('country_code').first_payment_flag.count()).rename('payment_activation_rate')\n",
    "country_conversion_final = pd.merge(\n",
    "    conversion_rate_country,\n",
    "    teams_activation.loc[teams_activation.first_event_flag].groupby('country_code').first_payment_flag.count().rename('total_activated_clubs'),\n",
    "    left_index=True,\n",
    "    right_index=True\n",
    ").reset_index().merge(\n",
    "    payments_enriched.groupby(['country_code']).spond_revenue.sum().reset_index(),\n",
    "    how='left',\n",
    "    on='country_code'\n",
    ")\n",
    "country_conversion_final"
   ]
  },
  {
   "cell_type": "code",
   "execution_count": 133,
   "id": "6fa92ac7",
   "metadata": {},
   "outputs": [
    {
     "data": {
      "text/html": [
       "<div>\n",
       "<style scoped>\n",
       "    .dataframe tbody tr th:only-of-type {\n",
       "        vertical-align: middle;\n",
       "    }\n",
       "\n",
       "    .dataframe tbody tr th {\n",
       "        vertical-align: top;\n",
       "    }\n",
       "\n",
       "    .dataframe thead th {\n",
       "        text-align: right;\n",
       "    }\n",
       "</style>\n",
       "<table border=\"1\" class=\"dataframe\">\n",
       "  <thead>\n",
       "    <tr style=\"text-align: right;\">\n",
       "      <th></th>\n",
       "      <th>team_activity</th>\n",
       "      <th>payment_activation_rate</th>\n",
       "      <th>total_activated_clubs</th>\n",
       "      <th>spond_revenue</th>\n",
       "    </tr>\n",
       "  </thead>\n",
       "  <tbody>\n",
       "    <tr>\n",
       "      <th>21</th>\n",
       "      <td>football</td>\n",
       "      <td>0.785588</td>\n",
       "      <td>1693</td>\n",
       "      <td>68198.215013</td>\n",
       "    </tr>\n",
       "    <tr>\n",
       "      <th>11</th>\n",
       "      <td>cricket</td>\n",
       "      <td>0.800000</td>\n",
       "      <td>275</td>\n",
       "      <td>433.726323</td>\n",
       "    </tr>\n",
       "    <tr>\n",
       "      <th>33</th>\n",
       "      <td>netball</td>\n",
       "      <td>0.857778</td>\n",
       "      <td>225</td>\n",
       "      <td>370.851159</td>\n",
       "    </tr>\n",
       "    <tr>\n",
       "      <th>6</th>\n",
       "      <td>basketball</td>\n",
       "      <td>0.891720</td>\n",
       "      <td>157</td>\n",
       "      <td>2510.293961</td>\n",
       "    </tr>\n",
       "    <tr>\n",
       "      <th>41</th>\n",
       "      <td>rugby</td>\n",
       "      <td>0.755906</td>\n",
       "      <td>127</td>\n",
       "      <td>158.239702</td>\n",
       "    </tr>\n",
       "    <tr>\n",
       "      <th>24</th>\n",
       "      <td>gymnastics</td>\n",
       "      <td>0.712644</td>\n",
       "      <td>87</td>\n",
       "      <td>21585.073210</td>\n",
       "    </tr>\n",
       "    <tr>\n",
       "      <th>35</th>\n",
       "      <td>other_non_sports</td>\n",
       "      <td>0.802469</td>\n",
       "      <td>81</td>\n",
       "      <td>14940.174314</td>\n",
       "    </tr>\n",
       "    <tr>\n",
       "      <th>13</th>\n",
       "      <td>dancing_and_cheer</td>\n",
       "      <td>0.835616</td>\n",
       "      <td>73</td>\n",
       "      <td>10904.249943</td>\n",
       "    </tr>\n",
       "    <tr>\n",
       "      <th>38</th>\n",
       "      <td>pickleball</td>\n",
       "      <td>0.785714</td>\n",
       "      <td>70</td>\n",
       "      <td>173.815682</td>\n",
       "    </tr>\n",
       "    <tr>\n",
       "      <th>54</th>\n",
       "      <td>volleyball</td>\n",
       "      <td>0.928571</td>\n",
       "      <td>70</td>\n",
       "      <td>939.247258</td>\n",
       "    </tr>\n",
       "    <tr>\n",
       "      <th>48</th>\n",
       "      <td>social</td>\n",
       "      <td>0.782609</td>\n",
       "      <td>69</td>\n",
       "      <td>10252.786998</td>\n",
       "    </tr>\n",
       "    <tr>\n",
       "      <th>36</th>\n",
       "      <td>other_sports</td>\n",
       "      <td>0.818182</td>\n",
       "      <td>66</td>\n",
       "      <td>2593.909591</td>\n",
       "    </tr>\n",
       "    <tr>\n",
       "      <th>25</th>\n",
       "      <td>handball</td>\n",
       "      <td>0.606061</td>\n",
       "      <td>66</td>\n",
       "      <td>18093.921756</td>\n",
       "    </tr>\n",
       "    <tr>\n",
       "      <th>18</th>\n",
       "      <td>field_hockey</td>\n",
       "      <td>0.921875</td>\n",
       "      <td>64</td>\n",
       "      <td>113.421236</td>\n",
       "    </tr>\n",
       "    <tr>\n",
       "      <th>32</th>\n",
       "      <td>music</td>\n",
       "      <td>0.758065</td>\n",
       "      <td>62</td>\n",
       "      <td>9524.075360</td>\n",
       "    </tr>\n",
       "    <tr>\n",
       "      <th>44</th>\n",
       "      <td>school</td>\n",
       "      <td>0.875000</td>\n",
       "      <td>48</td>\n",
       "      <td>4019.705797</td>\n",
       "    </tr>\n",
       "    <tr>\n",
       "      <th>53</th>\n",
       "      <td>tennis</td>\n",
       "      <td>0.674419</td>\n",
       "      <td>43</td>\n",
       "      <td>5191.036213</td>\n",
       "    </tr>\n",
       "    <tr>\n",
       "      <th>12</th>\n",
       "      <td>cycling</td>\n",
       "      <td>0.975000</td>\n",
       "      <td>40</td>\n",
       "      <td>1052.393220</td>\n",
       "    </tr>\n",
       "    <tr>\n",
       "      <th>27</th>\n",
       "      <td>ice_hockey</td>\n",
       "      <td>0.694444</td>\n",
       "      <td>36</td>\n",
       "      <td>9198.327638</td>\n",
       "    </tr>\n",
       "    <tr>\n",
       "      <th>29</th>\n",
       "      <td>martial_arts</td>\n",
       "      <td>0.852941</td>\n",
       "      <td>34</td>\n",
       "      <td>3810.968115</td>\n",
       "    </tr>\n",
       "    <tr>\n",
       "      <th>3</th>\n",
       "      <td>badminton</td>\n",
       "      <td>0.906250</td>\n",
       "      <td>32</td>\n",
       "      <td>22.123246</td>\n",
       "    </tr>\n",
       "    <tr>\n",
       "      <th>55</th>\n",
       "      <td>volunteering</td>\n",
       "      <td>0.724138</td>\n",
       "      <td>29</td>\n",
       "      <td>4105.109183</td>\n",
       "    </tr>\n",
       "    <tr>\n",
       "      <th>31</th>\n",
       "      <td>multisport</td>\n",
       "      <td>0.928571</td>\n",
       "      <td>28</td>\n",
       "      <td>1105.471898</td>\n",
       "    </tr>\n",
       "    <tr>\n",
       "      <th>42</th>\n",
       "      <td>running</td>\n",
       "      <td>0.791667</td>\n",
       "      <td>24</td>\n",
       "      <td>641.013218</td>\n",
       "    </tr>\n",
       "    <tr>\n",
       "      <th>45</th>\n",
       "      <td>scouting</td>\n",
       "      <td>0.541667</td>\n",
       "      <td>24</td>\n",
       "      <td>3964.364046</td>\n",
       "    </tr>\n",
       "    <tr>\n",
       "      <th>52</th>\n",
       "      <td>swimming</td>\n",
       "      <td>0.950000</td>\n",
       "      <td>20</td>\n",
       "      <td>2266.965424</td>\n",
       "    </tr>\n",
       "    <tr>\n",
       "      <th>56</th>\n",
       "      <td>water_sports</td>\n",
       "      <td>0.800000</td>\n",
       "      <td>20</td>\n",
       "      <td>271.800882</td>\n",
       "    </tr>\n",
       "    <tr>\n",
       "      <th>23</th>\n",
       "      <td>golf</td>\n",
       "      <td>0.888889</td>\n",
       "      <td>18</td>\n",
       "      <td>1864.895017</td>\n",
       "    </tr>\n",
       "    <tr>\n",
       "      <th>37</th>\n",
       "      <td>padel</td>\n",
       "      <td>0.888889</td>\n",
       "      <td>18</td>\n",
       "      <td>3299.650421</td>\n",
       "    </tr>\n",
       "    <tr>\n",
       "      <th>40</th>\n",
       "      <td>rowing</td>\n",
       "      <td>0.800000</td>\n",
       "      <td>15</td>\n",
       "      <td>31.426198</td>\n",
       "    </tr>\n",
       "    <tr>\n",
       "      <th>50</th>\n",
       "      <td>squash</td>\n",
       "      <td>1.000000</td>\n",
       "      <td>14</td>\n",
       "      <td>452.324441</td>\n",
       "    </tr>\n",
       "    <tr>\n",
       "      <th>5</th>\n",
       "      <td>baseball</td>\n",
       "      <td>0.833333</td>\n",
       "      <td>12</td>\n",
       "      <td>65.729093</td>\n",
       "    </tr>\n",
       "    <tr>\n",
       "      <th>39</th>\n",
       "      <td>pingpong</td>\n",
       "      <td>1.000000</td>\n",
       "      <td>12</td>\n",
       "      <td>48.943723</td>\n",
       "    </tr>\n",
       "    <tr>\n",
       "      <th>49</th>\n",
       "      <td>softball</td>\n",
       "      <td>0.727273</td>\n",
       "      <td>11</td>\n",
       "      <td>11.859195</td>\n",
       "    </tr>\n",
       "    <tr>\n",
       "      <th>1</th>\n",
       "      <td>american_football</td>\n",
       "      <td>0.800000</td>\n",
       "      <td>10</td>\n",
       "      <td>275.027811</td>\n",
       "    </tr>\n",
       "    <tr>\n",
       "      <th>2</th>\n",
       "      <td>athletics</td>\n",
       "      <td>0.888889</td>\n",
       "      <td>9</td>\n",
       "      <td>26.304576</td>\n",
       "    </tr>\n",
       "    <tr>\n",
       "      <th>46</th>\n",
       "      <td>shooting_sports</td>\n",
       "      <td>0.875000</td>\n",
       "      <td>8</td>\n",
       "      <td>10.182091</td>\n",
       "    </tr>\n",
       "    <tr>\n",
       "      <th>0</th>\n",
       "      <td>alpine_skiing</td>\n",
       "      <td>0.750000</td>\n",
       "      <td>8</td>\n",
       "      <td>2695.961981</td>\n",
       "    </tr>\n",
       "    <tr>\n",
       "      <th>19</th>\n",
       "      <td>figureskating</td>\n",
       "      <td>0.875000</td>\n",
       "      <td>8</td>\n",
       "      <td>666.750022</td>\n",
       "    </tr>\n",
       "    <tr>\n",
       "      <th>16</th>\n",
       "      <td>esports</td>\n",
       "      <td>1.000000</td>\n",
       "      <td>7</td>\n",
       "      <td>1270.620000</td>\n",
       "    </tr>\n",
       "    <tr>\n",
       "      <th>28</th>\n",
       "      <td>lacrosse</td>\n",
       "      <td>1.000000</td>\n",
       "      <td>6</td>\n",
       "      <td>1.799856</td>\n",
       "    </tr>\n",
       "    <tr>\n",
       "      <th>20</th>\n",
       "      <td>floorball</td>\n",
       "      <td>0.833333</td>\n",
       "      <td>6</td>\n",
       "      <td>1838.357910</td>\n",
       "    </tr>\n",
       "    <tr>\n",
       "      <th>7</th>\n",
       "      <td>beach_volleyball</td>\n",
       "      <td>1.000000</td>\n",
       "      <td>5</td>\n",
       "      <td>243.921805</td>\n",
       "    </tr>\n",
       "    <tr>\n",
       "      <th>43</th>\n",
       "      <td>sailing</td>\n",
       "      <td>1.000000</td>\n",
       "      <td>5</td>\n",
       "      <td>154.512729</td>\n",
       "    </tr>\n",
       "    <tr>\n",
       "      <th>30</th>\n",
       "      <td>motorsport</td>\n",
       "      <td>1.000000</td>\n",
       "      <td>4</td>\n",
       "      <td>2466.620000</td>\n",
       "    </tr>\n",
       "    <tr>\n",
       "      <th>4</th>\n",
       "      <td>bandy</td>\n",
       "      <td>0.750000</td>\n",
       "      <td>4</td>\n",
       "      <td>1738.400000</td>\n",
       "    </tr>\n",
       "    <tr>\n",
       "      <th>10</th>\n",
       "      <td>cc_skiing</td>\n",
       "      <td>0.500000</td>\n",
       "      <td>4</td>\n",
       "      <td>24.441614</td>\n",
       "    </tr>\n",
       "    <tr>\n",
       "      <th>14</th>\n",
       "      <td>discgolf</td>\n",
       "      <td>0.750000</td>\n",
       "      <td>4</td>\n",
       "      <td>256.915871</td>\n",
       "    </tr>\n",
       "    <tr>\n",
       "      <th>57</th>\n",
       "      <td>yoga</td>\n",
       "      <td>1.000000</td>\n",
       "      <td>4</td>\n",
       "      <td>32.793980</td>\n",
       "    </tr>\n",
       "    <tr>\n",
       "      <th>17</th>\n",
       "      <td>fencing</td>\n",
       "      <td>0.750000</td>\n",
       "      <td>4</td>\n",
       "      <td>210.087632</td>\n",
       "    </tr>\n",
       "    <tr>\n",
       "      <th>15</th>\n",
       "      <td>equestrian_sports</td>\n",
       "      <td>1.000000</td>\n",
       "      <td>2</td>\n",
       "      <td>1342.212396</td>\n",
       "    </tr>\n",
       "    <tr>\n",
       "      <th>47</th>\n",
       "      <td>skating</td>\n",
       "      <td>1.000000</td>\n",
       "      <td>2</td>\n",
       "      <td>0.353205</td>\n",
       "    </tr>\n",
       "    <tr>\n",
       "      <th>51</th>\n",
       "      <td>surfing</td>\n",
       "      <td>1.000000</td>\n",
       "      <td>2</td>\n",
       "      <td>26.775209</td>\n",
       "    </tr>\n",
       "    <tr>\n",
       "      <th>8</th>\n",
       "      <td>biathlon</td>\n",
       "      <td>1.000000</td>\n",
       "      <td>2</td>\n",
       "      <td>789.360000</td>\n",
       "    </tr>\n",
       "    <tr>\n",
       "      <th>22</th>\n",
       "      <td>gaelicfootball</td>\n",
       "      <td>0.500000</td>\n",
       "      <td>2</td>\n",
       "      <td>0.663990</td>\n",
       "    </tr>\n",
       "    <tr>\n",
       "      <th>9</th>\n",
       "      <td>bowling</td>\n",
       "      <td>1.000000</td>\n",
       "      <td>1</td>\n",
       "      <td>9.168248</td>\n",
       "    </tr>\n",
       "    <tr>\n",
       "      <th>26</th>\n",
       "      <td>hurling</td>\n",
       "      <td>1.000000</td>\n",
       "      <td>1</td>\n",
       "      <td>0.853895</td>\n",
       "    </tr>\n",
       "    <tr>\n",
       "      <th>34</th>\n",
       "      <td>orienteering</td>\n",
       "      <td>1.000000</td>\n",
       "      <td>1</td>\n",
       "      <td>836.000000</td>\n",
       "    </tr>\n",
       "  </tbody>\n",
       "</table>\n",
       "</div>"
      ],
      "text/plain": [
       "        team_activity  payment_activation_rate  total_activated_clubs  \\\n",
       "21           football                 0.785588                   1693   \n",
       "11            cricket                 0.800000                    275   \n",
       "33            netball                 0.857778                    225   \n",
       "6          basketball                 0.891720                    157   \n",
       "41              rugby                 0.755906                    127   \n",
       "24         gymnastics                 0.712644                     87   \n",
       "35   other_non_sports                 0.802469                     81   \n",
       "13  dancing_and_cheer                 0.835616                     73   \n",
       "38         pickleball                 0.785714                     70   \n",
       "54         volleyball                 0.928571                     70   \n",
       "48             social                 0.782609                     69   \n",
       "36       other_sports                 0.818182                     66   \n",
       "25           handball                 0.606061                     66   \n",
       "18       field_hockey                 0.921875                     64   \n",
       "32              music                 0.758065                     62   \n",
       "44             school                 0.875000                     48   \n",
       "53             tennis                 0.674419                     43   \n",
       "12            cycling                 0.975000                     40   \n",
       "27         ice_hockey                 0.694444                     36   \n",
       "29       martial_arts                 0.852941                     34   \n",
       "3           badminton                 0.906250                     32   \n",
       "55       volunteering                 0.724138                     29   \n",
       "31         multisport                 0.928571                     28   \n",
       "42            running                 0.791667                     24   \n",
       "45           scouting                 0.541667                     24   \n",
       "52           swimming                 0.950000                     20   \n",
       "56       water_sports                 0.800000                     20   \n",
       "23               golf                 0.888889                     18   \n",
       "37              padel                 0.888889                     18   \n",
       "40             rowing                 0.800000                     15   \n",
       "50             squash                 1.000000                     14   \n",
       "5            baseball                 0.833333                     12   \n",
       "39           pingpong                 1.000000                     12   \n",
       "49           softball                 0.727273                     11   \n",
       "1   american_football                 0.800000                     10   \n",
       "2           athletics                 0.888889                      9   \n",
       "46    shooting_sports                 0.875000                      8   \n",
       "0       alpine_skiing                 0.750000                      8   \n",
       "19      figureskating                 0.875000                      8   \n",
       "16            esports                 1.000000                      7   \n",
       "28           lacrosse                 1.000000                      6   \n",
       "20          floorball                 0.833333                      6   \n",
       "7    beach_volleyball                 1.000000                      5   \n",
       "43            sailing                 1.000000                      5   \n",
       "30         motorsport                 1.000000                      4   \n",
       "4               bandy                 0.750000                      4   \n",
       "10          cc_skiing                 0.500000                      4   \n",
       "14           discgolf                 0.750000                      4   \n",
       "57               yoga                 1.000000                      4   \n",
       "17            fencing                 0.750000                      4   \n",
       "15  equestrian_sports                 1.000000                      2   \n",
       "47            skating                 1.000000                      2   \n",
       "51            surfing                 1.000000                      2   \n",
       "8            biathlon                 1.000000                      2   \n",
       "22     gaelicfootball                 0.500000                      2   \n",
       "9             bowling                 1.000000                      1   \n",
       "26            hurling                 1.000000                      1   \n",
       "34       orienteering                 1.000000                      1   \n",
       "\n",
       "    spond_revenue  \n",
       "21   68198.215013  \n",
       "11     433.726323  \n",
       "33     370.851159  \n",
       "6     2510.293961  \n",
       "41     158.239702  \n",
       "24   21585.073210  \n",
       "35   14940.174314  \n",
       "13   10904.249943  \n",
       "38     173.815682  \n",
       "54     939.247258  \n",
       "48   10252.786998  \n",
       "36    2593.909591  \n",
       "25   18093.921756  \n",
       "18     113.421236  \n",
       "32    9524.075360  \n",
       "44    4019.705797  \n",
       "53    5191.036213  \n",
       "12    1052.393220  \n",
       "27    9198.327638  \n",
       "29    3810.968115  \n",
       "3       22.123246  \n",
       "55    4105.109183  \n",
       "31    1105.471898  \n",
       "42     641.013218  \n",
       "45    3964.364046  \n",
       "52    2266.965424  \n",
       "56     271.800882  \n",
       "23    1864.895017  \n",
       "37    3299.650421  \n",
       "40      31.426198  \n",
       "50     452.324441  \n",
       "5       65.729093  \n",
       "39      48.943723  \n",
       "49      11.859195  \n",
       "1      275.027811  \n",
       "2       26.304576  \n",
       "46      10.182091  \n",
       "0     2695.961981  \n",
       "19     666.750022  \n",
       "16    1270.620000  \n",
       "28       1.799856  \n",
       "20    1838.357910  \n",
       "7      243.921805  \n",
       "43     154.512729  \n",
       "30    2466.620000  \n",
       "4     1738.400000  \n",
       "10      24.441614  \n",
       "14     256.915871  \n",
       "57      32.793980  \n",
       "17     210.087632  \n",
       "15    1342.212396  \n",
       "47       0.353205  \n",
       "51      26.775209  \n",
       "8      789.360000  \n",
       "22       0.663990  \n",
       "9        9.168248  \n",
       "26       0.853895  \n",
       "34     836.000000  "
      ]
     },
     "execution_count": 133,
     "metadata": {},
     "output_type": "execute_result"
    }
   ],
   "source": [
    "# Payment activation, clubs activated, and total revenue by activity type\n",
    "conversion_rate_activity = (teams_activation.loc[teams_activation.first_event_flag].groupby('team_activity').first_payment_flag.sum() / teams_activation.loc[teams_activation.first_event_flag].groupby('team_activity').first_payment_flag.count()).rename('payment_activation_rate')\n",
    "activity_conversion_final = pd.merge(\n",
    "    conversion_rate_activity,\n",
    "    teams_activation.loc[teams_activation.first_event_flag].groupby('team_activity').first_payment_flag.count().rename('total_activated_clubs'),\n",
    "    left_index=True,\n",
    "    right_index=True\n",
    ").reset_index().merge(\n",
    "    payments_enriched.groupby(['team_activity']).spond_revenue.sum().reset_index(),\n",
    "    how='left',\n",
    "    on='team_activity'\n",
    ").sort_values('total_activated_clubs', ascending=False)\n",
    "activity_conversion_final"
   ]
  },
  {
   "cell_type": "markdown",
   "id": "d8fcacae",
   "metadata": {},
   "source": [
    "#### Compare teams with events to teams with payment that week\n",
    "\n"
   ]
  },
  {
   "cell_type": "markdown",
   "id": "4a32314c",
   "metadata": {},
   "source": [
    "Why I chose it: Shows on any given week how many teams are using spond to process payments vs just using it for the event scheduling. Displays how well we access revenue at a weekly level.\n"
   ]
  },
  {
   "cell_type": "markdown",
   "id": "2715581c",
   "metadata": {},
   "source": [
    "How it’s computed: Joins weekly club event activity and weekly club payment activity, and sums both by the week.\n"
   ]
  },
  {
   "cell_type": "markdown",
   "id": "fc2ef959",
   "metadata": {},
   "source": [
    "Any assumptions: Looks at all clubs in the week, not just those that had events. Some teams may have a payment with no event, some may have an event with now payment. It is calculated on all teams and shows how much of our user base we capture at any given time"
   ]
  },
  {
   "cell_type": "code",
   "execution_count": null,
   "id": "2a69c2aa",
   "metadata": {},
   "outputs": [],
   "source": [
    "# Get all teams with events and/or payments\n",
    "payments_active_by_team_week = weekly_team_event_activity[['week', 'team_id', 'weekly_event_active_flag']].copy(deep=True).merge(\n",
    "    weekly_team_payment_activity.drop(columns='rolling_payment_active_weeks'),\n",
    "    on=['week', 'team_id'],\n",
    "    how='outer'\n",
    ").fillna(0)"
   ]
  },
  {
   "cell_type": "code",
   "execution_count": 68,
   "id": "e7ec1280",
   "metadata": {},
   "outputs": [
    {
     "data": {
      "text/html": [
       "<div>\n",
       "<style scoped>\n",
       "    .dataframe tbody tr th:only-of-type {\n",
       "        vertical-align: middle;\n",
       "    }\n",
       "\n",
       "    .dataframe tbody tr th {\n",
       "        vertical-align: top;\n",
       "    }\n",
       "\n",
       "    .dataframe thead th {\n",
       "        text-align: right;\n",
       "    }\n",
       "</style>\n",
       "<table border=\"1\" class=\"dataframe\">\n",
       "  <thead>\n",
       "    <tr style=\"text-align: right;\">\n",
       "      <th></th>\n",
       "      <th>week</th>\n",
       "      <th>team_id</th>\n",
       "      <th>weekly_event_active_flag</th>\n",
       "      <th>weekly_payment_active_flag</th>\n",
       "    </tr>\n",
       "  </thead>\n",
       "  <tbody>\n",
       "    <tr>\n",
       "      <th>0</th>\n",
       "      <td>2024-09-30</td>\n",
       "      <td>0006D1A3C276485EAA26D1736F78193D</td>\n",
       "      <td>1.0</td>\n",
       "      <td>1.0</td>\n",
       "    </tr>\n",
       "    <tr>\n",
       "      <th>1</th>\n",
       "      <td>2024-10-07</td>\n",
       "      <td>0006D1A3C276485EAA26D1736F78193D</td>\n",
       "      <td>0.0</td>\n",
       "      <td>0.0</td>\n",
       "    </tr>\n",
       "    <tr>\n",
       "      <th>2</th>\n",
       "      <td>2024-10-14</td>\n",
       "      <td>0006D1A3C276485EAA26D1736F78193D</td>\n",
       "      <td>1.0</td>\n",
       "      <td>0.0</td>\n",
       "    </tr>\n",
       "    <tr>\n",
       "      <th>3</th>\n",
       "      <td>2024-10-21</td>\n",
       "      <td>0006D1A3C276485EAA26D1736F78193D</td>\n",
       "      <td>1.0</td>\n",
       "      <td>1.0</td>\n",
       "    </tr>\n",
       "    <tr>\n",
       "      <th>4</th>\n",
       "      <td>2024-10-28</td>\n",
       "      <td>0006D1A3C276485EAA26D1736F78193D</td>\n",
       "      <td>1.0</td>\n",
       "      <td>0.0</td>\n",
       "    </tr>\n",
       "    <tr>\n",
       "      <th>...</th>\n",
       "      <td>...</td>\n",
       "      <td>...</td>\n",
       "      <td>...</td>\n",
       "      <td>...</td>\n",
       "    </tr>\n",
       "    <tr>\n",
       "      <th>96643</th>\n",
       "      <td>2024-12-02</td>\n",
       "      <td>FFE377B6793E4969A8D78670666B6BBD</td>\n",
       "      <td>1.0</td>\n",
       "      <td>0.0</td>\n",
       "    </tr>\n",
       "    <tr>\n",
       "      <th>96644</th>\n",
       "      <td>2024-12-09</td>\n",
       "      <td>FFE377B6793E4969A8D78670666B6BBD</td>\n",
       "      <td>0.0</td>\n",
       "      <td>0.0</td>\n",
       "    </tr>\n",
       "    <tr>\n",
       "      <th>96645</th>\n",
       "      <td>2024-12-16</td>\n",
       "      <td>FFE377B6793E4969A8D78670666B6BBD</td>\n",
       "      <td>0.0</td>\n",
       "      <td>0.0</td>\n",
       "    </tr>\n",
       "    <tr>\n",
       "      <th>96646</th>\n",
       "      <td>2024-12-23</td>\n",
       "      <td>FFE377B6793E4969A8D78670666B6BBD</td>\n",
       "      <td>0.0</td>\n",
       "      <td>0.0</td>\n",
       "    </tr>\n",
       "    <tr>\n",
       "      <th>96647</th>\n",
       "      <td>2024-12-30</td>\n",
       "      <td>FFE377B6793E4969A8D78670666B6BBD</td>\n",
       "      <td>0.0</td>\n",
       "      <td>0.0</td>\n",
       "    </tr>\n",
       "  </tbody>\n",
       "</table>\n",
       "<p>96648 rows × 4 columns</p>\n",
       "</div>"
      ],
      "text/plain": [
       "            week                           team_id  weekly_event_active_flag  \\\n",
       "0     2024-09-30  0006D1A3C276485EAA26D1736F78193D                       1.0   \n",
       "1     2024-10-07  0006D1A3C276485EAA26D1736F78193D                       0.0   \n",
       "2     2024-10-14  0006D1A3C276485EAA26D1736F78193D                       1.0   \n",
       "3     2024-10-21  0006D1A3C276485EAA26D1736F78193D                       1.0   \n",
       "4     2024-10-28  0006D1A3C276485EAA26D1736F78193D                       1.0   \n",
       "...          ...                               ...                       ...   \n",
       "96643 2024-12-02  FFE377B6793E4969A8D78670666B6BBD                       1.0   \n",
       "96644 2024-12-09  FFE377B6793E4969A8D78670666B6BBD                       0.0   \n",
       "96645 2024-12-16  FFE377B6793E4969A8D78670666B6BBD                       0.0   \n",
       "96646 2024-12-23  FFE377B6793E4969A8D78670666B6BBD                       0.0   \n",
       "96647 2024-12-30  FFE377B6793E4969A8D78670666B6BBD                       0.0   \n",
       "\n",
       "       weekly_payment_active_flag  \n",
       "0                             1.0  \n",
       "1                             0.0  \n",
       "2                             0.0  \n",
       "3                             1.0  \n",
       "4                             0.0  \n",
       "...                           ...  \n",
       "96643                         0.0  \n",
       "96644                         0.0  \n",
       "96645                         0.0  \n",
       "96646                         0.0  \n",
       "96647                         0.0  \n",
       "\n",
       "[96648 rows x 4 columns]"
      ]
     },
     "execution_count": 68,
     "metadata": {},
     "output_type": "execute_result"
    }
   ],
   "source": [
    "payments_active_by_team_week"
   ]
  },
  {
   "cell_type": "code",
   "execution_count": 82,
   "id": "db6ca107",
   "metadata": {},
   "outputs": [
    {
     "data": {
      "text/plain": [
       "<Axes: title={'center': 'Weekly Number of Teams with Events vs Payments'}, xlabel='Week', ylabel='Number of Teams'>"
      ]
     },
     "execution_count": 82,
     "metadata": {},
     "output_type": "execute_result"
    },
    {
     "data": {
      "image/png": "[encoded data removed]",
      "text/plain": [
       "<Figure size 640x480 with 1 Axes>"
      ]
     },
     "metadata": {},
     "output_type": "display_data"
    }
   ],
   "source": [
    "# Show weekly active teams vs teams processing payments weekly\n",
    "payments_active_by_team_week.groupby('week')[['weekly_payment_active_flag', 'weekly_event_active_flag']].sum().plot(\n",
    "    title = 'Weekly Number of Teams with Events vs Payments',\n",
    "    xlabel='Week',\n",
    "    ylabel='Number of Teams'\n",
    ")"
   ]
  },
  {
   "cell_type": "markdown",
   "id": "d95b137a",
   "metadata": {},
   "source": [
    "Finding: Wide gap between clubs who had an event in a week vs clubs that processed a payment in that week"
   ]
  },
  {
   "cell_type": "markdown",
   "id": "02f668b7",
   "metadata": {},
   "source": [
    "#### Of teams with events in in the past 4 weeks, how many used payments?\n",
    "\n"
   ]
  },
  {
   "cell_type": "markdown",
   "id": "b9502537",
   "metadata": {},
   "source": [
    "Why I chose it: Expands the prior metric by showing the funnel of likelihood for a team with an event to have any payments in that period"
   ]
  },
  {
   "cell_type": "markdown",
   "id": "c060776b",
   "metadata": {},
   "source": [
    "How it’s computed: Combines the weekly activity data for events and payments, filters where teams had events, and counts the number of teams with and without payments\n"
   ]
  },
  {
   "cell_type": "markdown",
   "id": "92602092",
   "metadata": {},
   "source": [
    "Any assumptions: Only focuses on clubs with events in the last four weeks, assumes that window is wide enough"
   ]
  },
  {
   "cell_type": "code",
   "execution_count": 86,
   "id": "6b091f94",
   "metadata": {},
   "outputs": [
    {
     "data": {
      "text/html": [
       "<div>\n",
       "<style scoped>\n",
       "    .dataframe tbody tr th:only-of-type {\n",
       "        vertical-align: middle;\n",
       "    }\n",
       "\n",
       "    .dataframe tbody tr th {\n",
       "        vertical-align: top;\n",
       "    }\n",
       "\n",
       "    .dataframe thead th {\n",
       "        text-align: right;\n",
       "    }\n",
       "</style>\n",
       "<table border=\"1\" class=\"dataframe\">\n",
       "  <thead>\n",
       "    <tr style=\"text-align: right;\">\n",
       "      <th></th>\n",
       "      <th>team_id</th>\n",
       "      <th>week</th>\n",
       "      <th>weekly_event_active_flag</th>\n",
       "      <th>rolling_event_active_weeks</th>\n",
       "      <th>rolling_event_engagement_level</th>\n",
       "    </tr>\n",
       "  </thead>\n",
       "  <tbody>\n",
       "    <tr>\n",
       "      <th>0</th>\n",
       "      <td>0006D1A3C276485EAA26D1736F78193D</td>\n",
       "      <td>2024-09-30</td>\n",
       "      <td>1.0</td>\n",
       "      <td>1.0</td>\n",
       "      <td>Low</td>\n",
       "    </tr>\n",
       "    <tr>\n",
       "      <th>1</th>\n",
       "      <td>0006D1A3C276485EAA26D1736F78193D</td>\n",
       "      <td>2024-10-07</td>\n",
       "      <td>0.0</td>\n",
       "      <td>1.0</td>\n",
       "      <td>Low</td>\n",
       "    </tr>\n",
       "    <tr>\n",
       "      <th>2</th>\n",
       "      <td>0006D1A3C276485EAA26D1736F78193D</td>\n",
       "      <td>2024-10-14</td>\n",
       "      <td>1.0</td>\n",
       "      <td>2.0</td>\n",
       "      <td>Moderate</td>\n",
       "    </tr>\n",
       "    <tr>\n",
       "      <th>3</th>\n",
       "      <td>0006D1A3C276485EAA26D1736F78193D</td>\n",
       "      <td>2024-10-21</td>\n",
       "      <td>1.0</td>\n",
       "      <td>3.0</td>\n",
       "      <td>High</td>\n",
       "    </tr>\n",
       "    <tr>\n",
       "      <th>4</th>\n",
       "      <td>0006D1A3C276485EAA26D1736F78193D</td>\n",
       "      <td>2024-10-28</td>\n",
       "      <td>1.0</td>\n",
       "      <td>3.0</td>\n",
       "      <td>High</td>\n",
       "    </tr>\n",
       "    <tr>\n",
       "      <th>...</th>\n",
       "      <td>...</td>\n",
       "      <td>...</td>\n",
       "      <td>...</td>\n",
       "      <td>...</td>\n",
       "      <td>...</td>\n",
       "    </tr>\n",
       "    <tr>\n",
       "      <th>96643</th>\n",
       "      <td>FFE377B6793E4969A8D78670666B6BBD</td>\n",
       "      <td>2024-12-02</td>\n",
       "      <td>1.0</td>\n",
       "      <td>3.0</td>\n",
       "      <td>High</td>\n",
       "    </tr>\n",
       "    <tr>\n",
       "      <th>96644</th>\n",
       "      <td>FFE377B6793E4969A8D78670666B6BBD</td>\n",
       "      <td>2024-12-09</td>\n",
       "      <td>0.0</td>\n",
       "      <td>3.0</td>\n",
       "      <td>High</td>\n",
       "    </tr>\n",
       "    <tr>\n",
       "      <th>96645</th>\n",
       "      <td>FFE377B6793E4969A8D78670666B6BBD</td>\n",
       "      <td>2024-12-16</td>\n",
       "      <td>0.0</td>\n",
       "      <td>2.0</td>\n",
       "      <td>Moderate</td>\n",
       "    </tr>\n",
       "    <tr>\n",
       "      <th>96646</th>\n",
       "      <td>FFE377B6793E4969A8D78670666B6BBD</td>\n",
       "      <td>2024-12-23</td>\n",
       "      <td>0.0</td>\n",
       "      <td>1.0</td>\n",
       "      <td>Low</td>\n",
       "    </tr>\n",
       "    <tr>\n",
       "      <th>96647</th>\n",
       "      <td>FFE377B6793E4969A8D78670666B6BBD</td>\n",
       "      <td>2024-12-30</td>\n",
       "      <td>0.0</td>\n",
       "      <td>0.0</td>\n",
       "      <td>None</td>\n",
       "    </tr>\n",
       "  </tbody>\n",
       "</table>\n",
       "<p>96648 rows × 5 columns</p>\n",
       "</div>"
      ],
      "text/plain": [
       "                                team_id       week  weekly_event_active_flag  \\\n",
       "0      0006D1A3C276485EAA26D1736F78193D 2024-09-30                       1.0   \n",
       "1      0006D1A3C276485EAA26D1736F78193D 2024-10-07                       0.0   \n",
       "2      0006D1A3C276485EAA26D1736F78193D 2024-10-14                       1.0   \n",
       "3      0006D1A3C276485EAA26D1736F78193D 2024-10-21                       1.0   \n",
       "4      0006D1A3C276485EAA26D1736F78193D 2024-10-28                       1.0   \n",
       "...                                 ...        ...                       ...   \n",
       "96643  FFE377B6793E4969A8D78670666B6BBD 2024-12-02                       1.0   \n",
       "96644  FFE377B6793E4969A8D78670666B6BBD 2024-12-09                       0.0   \n",
       "96645  FFE377B6793E4969A8D78670666B6BBD 2024-12-16                       0.0   \n",
       "96646  FFE377B6793E4969A8D78670666B6BBD 2024-12-23                       0.0   \n",
       "96647  FFE377B6793E4969A8D78670666B6BBD 2024-12-30                       0.0   \n",
       "\n",
       "       rolling_event_active_weeks rolling_event_engagement_level  \n",
       "0                             1.0                            Low  \n",
       "1                             1.0                            Low  \n",
       "2                             2.0                       Moderate  \n",
       "3                             3.0                           High  \n",
       "4                             3.0                           High  \n",
       "...                           ...                            ...  \n",
       "96643                         3.0                           High  \n",
       "96644                         3.0                           High  \n",
       "96645                         2.0                       Moderate  \n",
       "96646                         1.0                            Low  \n",
       "96647                         0.0                           None  \n",
       "\n",
       "[96648 rows x 5 columns]"
      ]
     },
     "execution_count": 86,
     "metadata": {},
     "output_type": "execute_result"
    }
   ],
   "source": [
    "weekly_team_event_activity"
   ]
  },
  {
   "cell_type": "code",
   "execution_count": null,
   "id": "8203e073",
   "metadata": {},
   "outputs": [],
   "source": [
    "rolling_payments = weekly_team_payment_activity.assign(payment_in_window=lambda x: (x['rolling_payment_active_weeks']>0).astype(int))[['team_id', 'week', 'payment_in_window']]\n",
    "rolling_events = weekly_team_event_activity.assign(event_in_window=lambda x: (x['rolling_event_active_weeks']>0).astype(int))[['team_id', 'week', 'event_in_window']]"
   ]
  },
  {
   "cell_type": "code",
   "execution_count": 96,
   "id": "eb4d4a9d",
   "metadata": {},
   "outputs": [],
   "source": [
    "rolling_events_payments_merged = pd.merge(\n",
    "    rolling_events,\n",
    "    rolling_payments,\n",
    "    how='left',\n",
    "    left_on=['team_id', 'week'],\n",
    "    right_on=['team_id', 'week']\n",
    ").reset_index().fillna(0)"
   ]
  },
  {
   "cell_type": "code",
   "execution_count": 97,
   "id": "1342e8aa",
   "metadata": {},
   "outputs": [],
   "source": [
    "assert all(rolling_score_agged.drop(columns='None').sum(axis=1).values == rolling_events_payments_merged.groupby('week').event_in_window.sum().values)"
   ]
  },
  {
   "cell_type": "code",
   "execution_count": 98,
   "id": "f1ad8129",
   "metadata": {},
   "outputs": [],
   "source": [
    "rolling_payments_where_events = rolling_events_payments_merged.loc[rolling_events_payments_merged['event_in_window']>0].fillna(0)"
   ]
  },
  {
   "cell_type": "code",
   "execution_count": 99,
   "id": "9af9a6e7",
   "metadata": {},
   "outputs": [],
   "source": [
    "rolling_payments_agged = rolling_payments_where_events.groupby(['week', 'payment_in_window']).team_id.count().rename('total_clubs').unstack().fillna(0)"
   ]
  },
  {
   "cell_type": "code",
   "execution_count": 100,
   "id": "f0929988",
   "metadata": {},
   "outputs": [
    {
     "data": {
      "image/png": "[encoded data removed]",
      "text/plain": [
       "<Figure size 800x500 with 1 Axes>"
      ]
     },
     "metadata": {},
     "output_type": "display_data"
    }
   ],
   "source": [
    "rolling_payments_by_week_pct = rolling_payments_agged.div(rolling_payments_agged.sum(axis=1), axis=0)\n",
    "\n",
    "# Plot as stacked area chart\n",
    "plt.figure(figsize=(8, 5))\n",
    "plt.stackplot(rolling_payments_by_week_pct.index, \n",
    "              rolling_payments_by_week_pct.T,\n",
    "              labels=rolling_payments_by_week_pct.columns,\n",
    "              alpha=0.8,\n",
    "              colors=truncate_colormap('Reds', n=len(rolling_payments_by_week_pct.columns), return_cmap=False))\n",
    "\n",
    "plt.title('Percent of Active Clubs (Last 4 Weeks) Using Payment Feature')\n",
    "plt.xlabel('Week')\n",
    "plt.ylabel('Percentage')\n",
    "plt.legend(loc='center left', title='Processed Payment', bbox_to_anchor=(1,0.5))\n",
    "plt.grid(True)\n",
    "plt.tight_layout()\n",
    "plt.show()"
   ]
  },
  {
   "cell_type": "markdown",
   "id": "24a5c618",
   "metadata": {},
   "source": [
    "#### How much revenue do we get from teams that monetize on average?"
   ]
  },
  {
   "cell_type": "markdown",
   "id": "a96e2fbd",
   "metadata": {},
   "source": [
    "Why I chose it: Shows market penetration over time, and our ability to keep customers using Spond for processing payments"
   ]
  },
  {
   "cell_type": "markdown",
   "id": "cfd72911",
   "metadata": {},
   "source": [
    "How it’s computed: Calculates revenue by week and payments by week to calculate average revenue per paying club\n"
   ]
  },
  {
   "cell_type": "markdown",
   "id": "85c66793",
   "metadata": {},
   "source": [
    "Any assumptions: None"
   ]
  },
  {
   "cell_type": "code",
   "execution_count": 104,
   "id": "d7381556",
   "metadata": {},
   "outputs": [
    {
     "data": {
      "text/html": [
       "<div>\n",
       "<style scoped>\n",
       "    .dataframe tbody tr th:only-of-type {\n",
       "        vertical-align: middle;\n",
       "    }\n",
       "\n",
       "    .dataframe tbody tr th {\n",
       "        vertical-align: top;\n",
       "    }\n",
       "\n",
       "    .dataframe thead th {\n",
       "        text-align: right;\n",
       "    }\n",
       "</style>\n",
       "<table border=\"1\" class=\"dataframe\">\n",
       "  <thead>\n",
       "    <tr style=\"text-align: right;\">\n",
       "      <th></th>\n",
       "      <th>week</th>\n",
       "      <th>team_id</th>\n",
       "      <th>weekly_event_active_flag</th>\n",
       "      <th>weekly_payment_active_flag</th>\n",
       "    </tr>\n",
       "  </thead>\n",
       "  <tbody>\n",
       "    <tr>\n",
       "      <th>0</th>\n",
       "      <td>2024-09-30</td>\n",
       "      <td>0006D1A3C276485EAA26D1736F78193D</td>\n",
       "      <td>1.0</td>\n",
       "      <td>1.0</td>\n",
       "    </tr>\n",
       "    <tr>\n",
       "      <th>1</th>\n",
       "      <td>2024-10-07</td>\n",
       "      <td>0006D1A3C276485EAA26D1736F78193D</td>\n",
       "      <td>0.0</td>\n",
       "      <td>0.0</td>\n",
       "    </tr>\n",
       "    <tr>\n",
       "      <th>2</th>\n",
       "      <td>2024-10-14</td>\n",
       "      <td>0006D1A3C276485EAA26D1736F78193D</td>\n",
       "      <td>1.0</td>\n",
       "      <td>0.0</td>\n",
       "    </tr>\n",
       "    <tr>\n",
       "      <th>3</th>\n",
       "      <td>2024-10-21</td>\n",
       "      <td>0006D1A3C276485EAA26D1736F78193D</td>\n",
       "      <td>1.0</td>\n",
       "      <td>1.0</td>\n",
       "    </tr>\n",
       "    <tr>\n",
       "      <th>4</th>\n",
       "      <td>2024-10-28</td>\n",
       "      <td>0006D1A3C276485EAA26D1736F78193D</td>\n",
       "      <td>1.0</td>\n",
       "      <td>0.0</td>\n",
       "    </tr>\n",
       "    <tr>\n",
       "      <th>...</th>\n",
       "      <td>...</td>\n",
       "      <td>...</td>\n",
       "      <td>...</td>\n",
       "      <td>...</td>\n",
       "    </tr>\n",
       "    <tr>\n",
       "      <th>96643</th>\n",
       "      <td>2024-12-02</td>\n",
       "      <td>FFE377B6793E4969A8D78670666B6BBD</td>\n",
       "      <td>1.0</td>\n",
       "      <td>0.0</td>\n",
       "    </tr>\n",
       "    <tr>\n",
       "      <th>96644</th>\n",
       "      <td>2024-12-09</td>\n",
       "      <td>FFE377B6793E4969A8D78670666B6BBD</td>\n",
       "      <td>0.0</td>\n",
       "      <td>0.0</td>\n",
       "    </tr>\n",
       "    <tr>\n",
       "      <th>96645</th>\n",
       "      <td>2024-12-16</td>\n",
       "      <td>FFE377B6793E4969A8D78670666B6BBD</td>\n",
       "      <td>0.0</td>\n",
       "      <td>0.0</td>\n",
       "    </tr>\n",
       "    <tr>\n",
       "      <th>96646</th>\n",
       "      <td>2024-12-23</td>\n",
       "      <td>FFE377B6793E4969A8D78670666B6BBD</td>\n",
       "      <td>0.0</td>\n",
       "      <td>0.0</td>\n",
       "    </tr>\n",
       "    <tr>\n",
       "      <th>96647</th>\n",
       "      <td>2024-12-30</td>\n",
       "      <td>FFE377B6793E4969A8D78670666B6BBD</td>\n",
       "      <td>0.0</td>\n",
       "      <td>0.0</td>\n",
       "    </tr>\n",
       "  </tbody>\n",
       "</table>\n",
       "<p>96648 rows × 4 columns</p>\n",
       "</div>"
      ],
      "text/plain": [
       "            week                           team_id  weekly_event_active_flag  \\\n",
       "0     2024-09-30  0006D1A3C276485EAA26D1736F78193D                       1.0   \n",
       "1     2024-10-07  0006D1A3C276485EAA26D1736F78193D                       0.0   \n",
       "2     2024-10-14  0006D1A3C276485EAA26D1736F78193D                       1.0   \n",
       "3     2024-10-21  0006D1A3C276485EAA26D1736F78193D                       1.0   \n",
       "4     2024-10-28  0006D1A3C276485EAA26D1736F78193D                       1.0   \n",
       "...          ...                               ...                       ...   \n",
       "96643 2024-12-02  FFE377B6793E4969A8D78670666B6BBD                       1.0   \n",
       "96644 2024-12-09  FFE377B6793E4969A8D78670666B6BBD                       0.0   \n",
       "96645 2024-12-16  FFE377B6793E4969A8D78670666B6BBD                       0.0   \n",
       "96646 2024-12-23  FFE377B6793E4969A8D78670666B6BBD                       0.0   \n",
       "96647 2024-12-30  FFE377B6793E4969A8D78670666B6BBD                       0.0   \n",
       "\n",
       "       weekly_payment_active_flag  \n",
       "0                             1.0  \n",
       "1                             0.0  \n",
       "2                             0.0  \n",
       "3                             1.0  \n",
       "4                             0.0  \n",
       "...                           ...  \n",
       "96643                         0.0  \n",
       "96644                         0.0  \n",
       "96645                         0.0  \n",
       "96646                         0.0  \n",
       "96647                         0.0  \n",
       "\n",
       "[96648 rows x 4 columns]"
      ]
     },
     "execution_count": 104,
     "metadata": {},
     "output_type": "execute_result"
    }
   ],
   "source": [
    "payments_active_by_team_week"
   ]
  },
  {
   "cell_type": "code",
   "execution_count": 105,
   "id": "c9f1df6a",
   "metadata": {},
   "outputs": [],
   "source": [
    "revenue_by_team_week = payments_active_by_team_week.loc[payments_active_by_team_week.weekly_payment_active_flag>0].merge(\n",
    "    payments_enriched.groupby(['team_id', 'week']).spond_revenue.sum().reset_index(),\n",
    "    on = ['team_id', 'week'],\n",
    "    how='left'\n",
    ").fillna(0)\n"
   ]
  },
  {
   "cell_type": "code",
   "execution_count": 106,
   "id": "47771e7e",
   "metadata": {},
   "outputs": [],
   "source": [
    "revenue_by_week = revenue_by_team_week.groupby('week')[\n",
    "    ['weekly_payment_active_flag', 'spond_revenue']\n",
    "].sum().assign(\n",
    "    revenue_per_paying_club = lambda x: x['spond_revenue'] / x['weekly_payment_active_flag']\n",
    ")"
   ]
  },
  {
   "cell_type": "code",
   "execution_count": 107,
   "id": "9abbaa74",
   "metadata": {},
   "outputs": [
    {
     "data": {
      "text/plain": [
       "<Axes: title={'center': 'Weekly Revenue Per Paying Club'}, xlabel='Week', ylabel='NOK'>"
      ]
     },
     "execution_count": 107,
     "metadata": {},
     "output_type": "execute_result"
    },
    {
     "data": {
      "image/png": "[encoded data removed]",
      "text/plain": [
       "<Figure size 640x480 with 1 Axes>"
      ]
     },
     "metadata": {},
     "output_type": "display_data"
    }
   ],
   "source": [
    "revenue_by_week['revenue_per_paying_club'].plot(\n",
    "    title='Weekly Revenue Per Paying Club',\n",
    "    xlabel='Week',\n",
    "    ylabel='NOK'\n",
    ")"
   ]
  },
  {
   "cell_type": "code",
   "execution_count": null,
   "id": "3722f08a",
   "metadata": {},
   "outputs": [],
   "source": []
  }
 ],
 "metadata": {
  "kernelspec": {
   "display_name": "base",
   "language": "python",
   "name": "python3"
  },
  "language_info": {
   "codemirror_mode": {
    "name": "ipython",
    "version": 3
   },
   "file_extension": ".py",
   "mimetype": "text/x-python",
   "name": "python",
   "nbconvert_exporter": "python",
   "pygments_lexer": "ipython3",
   "version": "3.8.13"
  }
 },
 "nbformat": 4,
 "nbformat_minor": 5
}
